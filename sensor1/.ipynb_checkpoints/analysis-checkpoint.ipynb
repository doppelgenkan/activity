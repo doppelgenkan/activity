{
 "cells": [
  {
   "cell_type": "markdown",
   "metadata": {},
   "source": [
    "# I. 静止センサのノイズとバイアスに関する参考分析例 \n",
    "\n",
    "※）カレントフォルダ（このNotebookと同じフォルダ）にデータCSVファイルがあるものとする。"
   ]
  },
  {
   "cell_type": "markdown",
   "metadata": {},
   "source": [
    "## 1. ノイズ"
   ]
  },
  {
   "cell_type": "markdown",
   "metadata": {},
   "source": [
    "### 1-1. データフレームと要約統計量"
   ]
  },
  {
   "cell_type": "markdown",
   "metadata": {},
   "source": [
    "⬛︎ `pandas`, `scipy.stats`, `matplotlib.pyplot`モジュールをそれぞれ，`pd`, `stats`, `plt`という名前でインポートする："
   ]
  },
  {
   "cell_type": "code",
   "execution_count": 1,
   "metadata": {},
   "outputs": [],
   "source": [
    "import pandas as pd\n",
    "import scipy.stats as stats\n",
    "import matplotlib.pyplot as plt"
   ]
  },
  {
   "cell_type": "markdown",
   "metadata": {},
   "source": [
    "⬛︎ `pandas`モジュールの`read_csv`関数を用いて，センサデータCSVファイル`'memdata_TSND121-06120699_2019-04-12_140934.329.csv'`を読み込み，変数`df`に格納する（p.244-245）："
   ]
  },
  {
   "cell_type": "code",
   "execution_count": 2,
   "metadata": {},
   "outputs": [],
   "source": [
    "df = pd.read_csv('memdata_TSND121-13121423_2019-04-16_144415.670.csv', header=None, \n",
    "                 names=['item', 'time', 'acc_x', 'acc_y', 'acc_z', 'omega_x', 'omega_y', 'omega_z'])"
   ]
  },
  {
   "cell_type": "markdown",
   "metadata": {},
   "source": [
    "> センサデータCSVファイルには項目名がないため，オプション引数\n",
    "```\n",
    "header=None\n",
    "```\n",
    "と\n",
    "```\n",
    "names=['item', 'time', 'acc_x', 'acc_y', 'acc_z', 'omega_x', 'omega_y', 'omega_z']\n",
    "```\n",
    "を指定して，データフレーム`df`に項目名を設定している。"
   ]
  },
  {
   "cell_type": "markdown",
   "metadata": {},
   "source": [
    "⬛︎ `df`の最上部と最下部を表示してみる(p.224)：\n",
    "> `head(n)`あるいは`tail(n)` の`n`を省略すると`n`は5に取られる："
   ]
  },
  {
   "cell_type": "code",
   "execution_count": 3,
   "metadata": {},
   "outputs": [
    {
     "data": {
      "text/html": [
       "<div>\n",
       "<style scoped>\n",
       "    .dataframe tbody tr th:only-of-type {\n",
       "        vertical-align: middle;\n",
       "    }\n",
       "\n",
       "    .dataframe tbody tr th {\n",
       "        vertical-align: top;\n",
       "    }\n",
       "\n",
       "    .dataframe thead th {\n",
       "        text-align: right;\n",
       "    }\n",
       "</style>\n",
       "<table border=\"1\" class=\"dataframe\">\n",
       "  <thead>\n",
       "    <tr style=\"text-align: right;\">\n",
       "      <th></th>\n",
       "      <th>item</th>\n",
       "      <th>time</th>\n",
       "      <th>acc_x</th>\n",
       "      <th>acc_y</th>\n",
       "      <th>acc_z</th>\n",
       "      <th>omega_x</th>\n",
       "      <th>omega_y</th>\n",
       "      <th>omega_z</th>\n",
       "    </tr>\n",
       "  </thead>\n",
       "  <tbody>\n",
       "    <tr>\n",
       "      <th>0</th>\n",
       "      <td>ags</td>\n",
       "      <td>53055784</td>\n",
       "      <td>-7</td>\n",
       "      <td>-29</td>\n",
       "      <td>10206</td>\n",
       "      <td>-70</td>\n",
       "      <td>-44</td>\n",
       "      <td>-6</td>\n",
       "    </tr>\n",
       "    <tr>\n",
       "      <th>1</th>\n",
       "      <td>ags</td>\n",
       "      <td>53055785</td>\n",
       "      <td>25</td>\n",
       "      <td>-26</td>\n",
       "      <td>10216</td>\n",
       "      <td>-70</td>\n",
       "      <td>-38</td>\n",
       "      <td>-6</td>\n",
       "    </tr>\n",
       "    <tr>\n",
       "      <th>2</th>\n",
       "      <td>ags</td>\n",
       "      <td>53055786</td>\n",
       "      <td>78</td>\n",
       "      <td>-72</td>\n",
       "      <td>10255</td>\n",
       "      <td>-83</td>\n",
       "      <td>-31</td>\n",
       "      <td>-24</td>\n",
       "    </tr>\n",
       "    <tr>\n",
       "      <th>3</th>\n",
       "      <td>ags</td>\n",
       "      <td>53055787</td>\n",
       "      <td>64</td>\n",
       "      <td>-77</td>\n",
       "      <td>10206</td>\n",
       "      <td>-89</td>\n",
       "      <td>-38</td>\n",
       "      <td>-24</td>\n",
       "    </tr>\n",
       "    <tr>\n",
       "      <th>4</th>\n",
       "      <td>ags</td>\n",
       "      <td>53055788</td>\n",
       "      <td>56</td>\n",
       "      <td>-79</td>\n",
       "      <td>10299</td>\n",
       "      <td>-70</td>\n",
       "      <td>-44</td>\n",
       "      <td>-12</td>\n",
       "    </tr>\n",
       "  </tbody>\n",
       "</table>\n",
       "</div>"
      ],
      "text/plain": [
       "  item      time  acc_x  acc_y  acc_z  omega_x  omega_y  omega_z\n",
       "0  ags  53055784     -7    -29  10206      -70      -44       -6\n",
       "1  ags  53055785     25    -26  10216      -70      -38       -6\n",
       "2  ags  53055786     78    -72  10255      -83      -31      -24\n",
       "3  ags  53055787     64    -77  10206      -89      -38      -24\n",
       "4  ags  53055788     56    -79  10299      -70      -44      -12"
      ]
     },
     "execution_count": 3,
     "metadata": {},
     "output_type": "execute_result"
    }
   ],
   "source": [
    "df.head()"
   ]
  },
  {
   "cell_type": "code",
   "execution_count": 4,
   "metadata": {},
   "outputs": [
    {
     "data": {
      "text/html": [
       "<div>\n",
       "<style scoped>\n",
       "    .dataframe tbody tr th:only-of-type {\n",
       "        vertical-align: middle;\n",
       "    }\n",
       "\n",
       "    .dataframe tbody tr th {\n",
       "        vertical-align: top;\n",
       "    }\n",
       "\n",
       "    .dataframe thead th {\n",
       "        text-align: right;\n",
       "    }\n",
       "</style>\n",
       "<table border=\"1\" class=\"dataframe\">\n",
       "  <thead>\n",
       "    <tr style=\"text-align: right;\">\n",
       "      <th></th>\n",
       "      <th>item</th>\n",
       "      <th>time</th>\n",
       "      <th>acc_x</th>\n",
       "      <th>acc_y</th>\n",
       "      <th>acc_z</th>\n",
       "      <th>omega_x</th>\n",
       "      <th>omega_y</th>\n",
       "      <th>omega_z</th>\n",
       "    </tr>\n",
       "  </thead>\n",
       "  <tbody>\n",
       "    <tr>\n",
       "      <th>303148</th>\n",
       "      <td>ags</td>\n",
       "      <td>53358932</td>\n",
       "      <td>105</td>\n",
       "      <td>32</td>\n",
       "      <td>10140</td>\n",
       "      <td>-76</td>\n",
       "      <td>-62</td>\n",
       "      <td>-36</td>\n",
       "    </tr>\n",
       "    <tr>\n",
       "      <th>303149</th>\n",
       "      <td>ags</td>\n",
       "      <td>53358933</td>\n",
       "      <td>44</td>\n",
       "      <td>-24</td>\n",
       "      <td>10145</td>\n",
       "      <td>-76</td>\n",
       "      <td>-44</td>\n",
       "      <td>-30</td>\n",
       "    </tr>\n",
       "    <tr>\n",
       "      <th>303150</th>\n",
       "      <td>ags</td>\n",
       "      <td>53358934</td>\n",
       "      <td>27</td>\n",
       "      <td>-47</td>\n",
       "      <td>10113</td>\n",
       "      <td>-70</td>\n",
       "      <td>-38</td>\n",
       "      <td>-6</td>\n",
       "    </tr>\n",
       "    <tr>\n",
       "      <th>303151</th>\n",
       "      <td>ags</td>\n",
       "      <td>53358935</td>\n",
       "      <td>30</td>\n",
       "      <td>-77</td>\n",
       "      <td>10157</td>\n",
       "      <td>-83</td>\n",
       "      <td>-31</td>\n",
       "      <td>-12</td>\n",
       "    </tr>\n",
       "    <tr>\n",
       "      <th>303152</th>\n",
       "      <td>ags</td>\n",
       "      <td>53358936</td>\n",
       "      <td>27</td>\n",
       "      <td>-21</td>\n",
       "      <td>10262</td>\n",
       "      <td>-89</td>\n",
       "      <td>-44</td>\n",
       "      <td>-24</td>\n",
       "    </tr>\n",
       "  </tbody>\n",
       "</table>\n",
       "</div>"
      ],
      "text/plain": [
       "       item      time  acc_x  acc_y  acc_z  omega_x  omega_y  omega_z\n",
       "303148  ags  53358932    105     32  10140      -76      -62      -36\n",
       "303149  ags  53358933     44    -24  10145      -76      -44      -30\n",
       "303150  ags  53358934     27    -47  10113      -70      -38       -6\n",
       "303151  ags  53358935     30    -77  10157      -83      -31      -12\n",
       "303152  ags  53358936     27    -21  10262      -89      -44      -24"
      ]
     },
     "execution_count": 4,
     "metadata": {},
     "output_type": "execute_result"
    }
   ],
   "source": [
    "df.tail()"
   ]
  },
  {
   "cell_type": "markdown",
   "metadata": {},
   "source": [
    "⬛︎ データの最初と最後の部分は怪しい（撹乱が入る場合がある）ので，`df`の10000~35000行目までを残し，後はカットすることにした(p.226)："
   ]
  },
  {
   "cell_type": "code",
   "execution_count": 5,
   "metadata": {},
   "outputs": [],
   "source": [
    "df = df.iloc[10000:290001]"
   ]
  },
  {
   "cell_type": "markdown",
   "metadata": {},
   "source": [
    "□カットしたデータフレームdfの最上部と最下部を表示してみる："
   ]
  },
  {
   "cell_type": "code",
   "execution_count": 6,
   "metadata": {},
   "outputs": [
    {
     "data": {
      "text/html": [
       "<div>\n",
       "<style scoped>\n",
       "    .dataframe tbody tr th:only-of-type {\n",
       "        vertical-align: middle;\n",
       "    }\n",
       "\n",
       "    .dataframe tbody tr th {\n",
       "        vertical-align: top;\n",
       "    }\n",
       "\n",
       "    .dataframe thead th {\n",
       "        text-align: right;\n",
       "    }\n",
       "</style>\n",
       "<table border=\"1\" class=\"dataframe\">\n",
       "  <thead>\n",
       "    <tr style=\"text-align: right;\">\n",
       "      <th></th>\n",
       "      <th>item</th>\n",
       "      <th>time</th>\n",
       "      <th>acc_x</th>\n",
       "      <th>acc_y</th>\n",
       "      <th>acc_z</th>\n",
       "      <th>omega_x</th>\n",
       "      <th>omega_y</th>\n",
       "      <th>omega_z</th>\n",
       "    </tr>\n",
       "  </thead>\n",
       "  <tbody>\n",
       "    <tr>\n",
       "      <th>10000</th>\n",
       "      <td>ags</td>\n",
       "      <td>53065784</td>\n",
       "      <td>66</td>\n",
       "      <td>-69</td>\n",
       "      <td>10250</td>\n",
       "      <td>-58</td>\n",
       "      <td>-44</td>\n",
       "      <td>-12</td>\n",
       "    </tr>\n",
       "    <tr>\n",
       "      <th>10001</th>\n",
       "      <td>ags</td>\n",
       "      <td>53065785</td>\n",
       "      <td>71</td>\n",
       "      <td>-62</td>\n",
       "      <td>10257</td>\n",
       "      <td>-58</td>\n",
       "      <td>-44</td>\n",
       "      <td>-6</td>\n",
       "    </tr>\n",
       "    <tr>\n",
       "      <th>10002</th>\n",
       "      <td>ags</td>\n",
       "      <td>53065786</td>\n",
       "      <td>47</td>\n",
       "      <td>-34</td>\n",
       "      <td>10196</td>\n",
       "      <td>-70</td>\n",
       "      <td>-38</td>\n",
       "      <td>-6</td>\n",
       "    </tr>\n",
       "    <tr>\n",
       "      <th>10003</th>\n",
       "      <td>ags</td>\n",
       "      <td>53065787</td>\n",
       "      <td>47</td>\n",
       "      <td>-55</td>\n",
       "      <td>10201</td>\n",
       "      <td>-76</td>\n",
       "      <td>-25</td>\n",
       "      <td>-12</td>\n",
       "    </tr>\n",
       "    <tr>\n",
       "      <th>10004</th>\n",
       "      <td>ags</td>\n",
       "      <td>53065788</td>\n",
       "      <td>15</td>\n",
       "      <td>-50</td>\n",
       "      <td>10218</td>\n",
       "      <td>-70</td>\n",
       "      <td>-31</td>\n",
       "      <td>-6</td>\n",
       "    </tr>\n",
       "  </tbody>\n",
       "</table>\n",
       "</div>"
      ],
      "text/plain": [
       "      item      time  acc_x  acc_y  acc_z  omega_x  omega_y  omega_z\n",
       "10000  ags  53065784     66    -69  10250      -58      -44      -12\n",
       "10001  ags  53065785     71    -62  10257      -58      -44       -6\n",
       "10002  ags  53065786     47    -34  10196      -70      -38       -6\n",
       "10003  ags  53065787     47    -55  10201      -76      -25      -12\n",
       "10004  ags  53065788     15    -50  10218      -70      -31       -6"
      ]
     },
     "execution_count": 6,
     "metadata": {},
     "output_type": "execute_result"
    }
   ],
   "source": [
    "df.head()"
   ]
  },
  {
   "cell_type": "code",
   "execution_count": 7,
   "metadata": {},
   "outputs": [
    {
     "data": {
      "text/html": [
       "<div>\n",
       "<style scoped>\n",
       "    .dataframe tbody tr th:only-of-type {\n",
       "        vertical-align: middle;\n",
       "    }\n",
       "\n",
       "    .dataframe tbody tr th {\n",
       "        vertical-align: top;\n",
       "    }\n",
       "\n",
       "    .dataframe thead th {\n",
       "        text-align: right;\n",
       "    }\n",
       "</style>\n",
       "<table border=\"1\" class=\"dataframe\">\n",
       "  <thead>\n",
       "    <tr style=\"text-align: right;\">\n",
       "      <th></th>\n",
       "      <th>item</th>\n",
       "      <th>time</th>\n",
       "      <th>acc_x</th>\n",
       "      <th>acc_y</th>\n",
       "      <th>acc_z</th>\n",
       "      <th>omega_x</th>\n",
       "      <th>omega_y</th>\n",
       "      <th>omega_z</th>\n",
       "    </tr>\n",
       "  </thead>\n",
       "  <tbody>\n",
       "    <tr>\n",
       "      <th>289996</th>\n",
       "      <td>ags</td>\n",
       "      <td>53345780</td>\n",
       "      <td>42</td>\n",
       "      <td>-38</td>\n",
       "      <td>10252</td>\n",
       "      <td>-64</td>\n",
       "      <td>-50</td>\n",
       "      <td>-18</td>\n",
       "    </tr>\n",
       "    <tr>\n",
       "      <th>289997</th>\n",
       "      <td>ags</td>\n",
       "      <td>53345781</td>\n",
       "      <td>37</td>\n",
       "      <td>-31</td>\n",
       "      <td>10277</td>\n",
       "      <td>-76</td>\n",
       "      <td>-62</td>\n",
       "      <td>-36</td>\n",
       "    </tr>\n",
       "    <tr>\n",
       "      <th>289998</th>\n",
       "      <td>ags</td>\n",
       "      <td>53345782</td>\n",
       "      <td>39</td>\n",
       "      <td>-38</td>\n",
       "      <td>10235</td>\n",
       "      <td>-76</td>\n",
       "      <td>-50</td>\n",
       "      <td>-24</td>\n",
       "    </tr>\n",
       "    <tr>\n",
       "      <th>289999</th>\n",
       "      <td>ags</td>\n",
       "      <td>53345783</td>\n",
       "      <td>30</td>\n",
       "      <td>-77</td>\n",
       "      <td>10177</td>\n",
       "      <td>-76</td>\n",
       "      <td>-38</td>\n",
       "      <td>-12</td>\n",
       "    </tr>\n",
       "    <tr>\n",
       "      <th>290000</th>\n",
       "      <td>ags</td>\n",
       "      <td>53345784</td>\n",
       "      <td>-12</td>\n",
       "      <td>-101</td>\n",
       "      <td>10167</td>\n",
       "      <td>-76</td>\n",
       "      <td>-31</td>\n",
       "      <td>-6</td>\n",
       "    </tr>\n",
       "  </tbody>\n",
       "</table>\n",
       "</div>"
      ],
      "text/plain": [
       "       item      time  acc_x  acc_y  acc_z  omega_x  omega_y  omega_z\n",
       "289996  ags  53345780     42    -38  10252      -64      -50      -18\n",
       "289997  ags  53345781     37    -31  10277      -76      -62      -36\n",
       "289998  ags  53345782     39    -38  10235      -76      -50      -24\n",
       "289999  ags  53345783     30    -77  10177      -76      -38      -12\n",
       "290000  ags  53345784    -12   -101  10167      -76      -31       -6"
      ]
     },
     "execution_count": 7,
     "metadata": {},
     "output_type": "execute_result"
    }
   ],
   "source": [
    "df.tail()"
   ]
  },
  {
   "cell_type": "markdown",
   "metadata": {},
   "source": [
    "⬛︎ データフレームオブジェクトのメソッド`describe()`で，データの要約統計量を見てみる：\n",
    "****\n",
    "**```\n",
    "データフレームオブジェクト.describe()\n",
    "```**  \n",
    "`Return : データフレームオブジェクト`の要約統計量データフレームを返す。  \n",
    "`Parameters` : なし\n",
    "****"
   ]
  },
  {
   "cell_type": "code",
   "execution_count": 8,
   "metadata": {},
   "outputs": [
    {
     "data": {
      "text/html": [
       "<div>\n",
       "<style scoped>\n",
       "    .dataframe tbody tr th:only-of-type {\n",
       "        vertical-align: middle;\n",
       "    }\n",
       "\n",
       "    .dataframe tbody tr th {\n",
       "        vertical-align: top;\n",
       "    }\n",
       "\n",
       "    .dataframe thead th {\n",
       "        text-align: right;\n",
       "    }\n",
       "</style>\n",
       "<table border=\"1\" class=\"dataframe\">\n",
       "  <thead>\n",
       "    <tr style=\"text-align: right;\">\n",
       "      <th></th>\n",
       "      <th>time</th>\n",
       "      <th>acc_x</th>\n",
       "      <th>acc_y</th>\n",
       "      <th>acc_z</th>\n",
       "      <th>omega_x</th>\n",
       "      <th>omega_y</th>\n",
       "      <th>omega_z</th>\n",
       "    </tr>\n",
       "  </thead>\n",
       "  <tbody>\n",
       "    <tr>\n",
       "      <th>count</th>\n",
       "      <td>2.800010e+05</td>\n",
       "      <td>280001.000000</td>\n",
       "      <td>280001.000000</td>\n",
       "      <td>280001.000000</td>\n",
       "      <td>280001.000000</td>\n",
       "      <td>280001.000000</td>\n",
       "      <td>280001.000000</td>\n",
       "    </tr>\n",
       "    <tr>\n",
       "      <th>mean</th>\n",
       "      <td>5.320578e+07</td>\n",
       "      <td>36.918793</td>\n",
       "      <td>-51.503087</td>\n",
       "      <td>10187.744408</td>\n",
       "      <td>-77.517487</td>\n",
       "      <td>-45.746362</td>\n",
       "      <td>-16.654248</td>\n",
       "    </tr>\n",
       "    <tr>\n",
       "      <th>std</th>\n",
       "      <td>8.082947e+04</td>\n",
       "      <td>32.906436</td>\n",
       "      <td>30.996179</td>\n",
       "      <td>43.780445</td>\n",
       "      <td>8.857339</td>\n",
       "      <td>9.304337</td>\n",
       "      <td>8.396877</td>\n",
       "    </tr>\n",
       "    <tr>\n",
       "      <th>min</th>\n",
       "      <td>5.306578e+07</td>\n",
       "      <td>-124.000000</td>\n",
       "      <td>-199.000000</td>\n",
       "      <td>9972.000000</td>\n",
       "      <td>-125.000000</td>\n",
       "      <td>-92.000000</td>\n",
       "      <td>-60.000000</td>\n",
       "    </tr>\n",
       "    <tr>\n",
       "      <th>25%</th>\n",
       "      <td>5.313578e+07</td>\n",
       "      <td>15.000000</td>\n",
       "      <td>-72.000000</td>\n",
       "      <td>10160.000000</td>\n",
       "      <td>-83.000000</td>\n",
       "      <td>-50.000000</td>\n",
       "      <td>-24.000000</td>\n",
       "    </tr>\n",
       "    <tr>\n",
       "      <th>50%</th>\n",
       "      <td>5.320578e+07</td>\n",
       "      <td>37.000000</td>\n",
       "      <td>-52.000000</td>\n",
       "      <td>10186.000000</td>\n",
       "      <td>-76.000000</td>\n",
       "      <td>-44.000000</td>\n",
       "      <td>-18.000000</td>\n",
       "    </tr>\n",
       "    <tr>\n",
       "      <th>75%</th>\n",
       "      <td>5.327578e+07</td>\n",
       "      <td>59.000000</td>\n",
       "      <td>-31.000000</td>\n",
       "      <td>10218.000000</td>\n",
       "      <td>-70.000000</td>\n",
       "      <td>-38.000000</td>\n",
       "      <td>-12.000000</td>\n",
       "    </tr>\n",
       "    <tr>\n",
       "      <th>max</th>\n",
       "      <td>5.334578e+07</td>\n",
       "      <td>188.000000</td>\n",
       "      <td>93.000000</td>\n",
       "      <td>10401.000000</td>\n",
       "      <td>-28.000000</td>\n",
       "      <td>17.000000</td>\n",
       "      <td>24.000000</td>\n",
       "    </tr>\n",
       "  </tbody>\n",
       "</table>\n",
       "</div>"
      ],
      "text/plain": [
       "               time          acc_x          acc_y          acc_z  \\\n",
       "count  2.800010e+05  280001.000000  280001.000000  280001.000000   \n",
       "mean   5.320578e+07      36.918793     -51.503087   10187.744408   \n",
       "std    8.082947e+04      32.906436      30.996179      43.780445   \n",
       "min    5.306578e+07    -124.000000    -199.000000    9972.000000   \n",
       "25%    5.313578e+07      15.000000     -72.000000   10160.000000   \n",
       "50%    5.320578e+07      37.000000     -52.000000   10186.000000   \n",
       "75%    5.327578e+07      59.000000     -31.000000   10218.000000   \n",
       "max    5.334578e+07     188.000000      93.000000   10401.000000   \n",
       "\n",
       "             omega_x        omega_y        omega_z  \n",
       "count  280001.000000  280001.000000  280001.000000  \n",
       "mean      -77.517487     -45.746362     -16.654248  \n",
       "std         8.857339       9.304337       8.396877  \n",
       "min      -125.000000     -92.000000     -60.000000  \n",
       "25%       -83.000000     -50.000000     -24.000000  \n",
       "50%       -76.000000     -44.000000     -18.000000  \n",
       "75%       -70.000000     -38.000000     -12.000000  \n",
       "max       -28.000000      17.000000      24.000000  "
      ]
     },
     "execution_count": 8,
     "metadata": {},
     "output_type": "execute_result"
    }
   ],
   "source": [
    "df.describe()"
   ]
  },
  {
   "cell_type": "markdown",
   "metadata": {},
   "source": [
    "> ここで，\n",
    ">\n",
    "> | 要約名称 | 意味 |\n",
    "|---|---|\n",
    "| count | 個数 |\n",
    "| mean | 平均値 |\n",
    "| std | 標準偏差 |\n",
    "| min | 最小値 |\n",
    "| 25% | 第１四分位数 |\n",
    "| 50% | 第２四分位数(中央値) |\n",
    "| 75% | 第３四分位数 |\n",
    "| max | 最大値 |"
   ]
  },
  {
   "cell_type": "markdown",
   "metadata": {},
   "source": [
    "⬛︎ データフレームオブジェクトの`hist(...)`メソッドを用いて，`df`のすべての項目についてヒストグラムを描く。  \n",
    "□その前にデータフレームの全てのデータについてのヒストグラムを描く関数の公式を書いておこう：\n",
    "****\n",
    "**```\n",
    "データフレームオブジェクト.hist(figsize=(数値1, 数値2), bins=数値3)\n",
    "```**  \n",
    "`Return : データフレームオブジェクト`の全ての項目についてのヒストグラムを返す。  \n",
    "- `figsize=(数値1, 数値2)` : グラフの横縦の大きさを`数値1:数値2`に設定する。  \n",
    "- `bins=数値3` : ヒストグラムの棒の区切り数を`数値3`にする。 \n",
    "****"
   ]
  },
  {
   "cell_type": "markdown",
   "metadata": {},
   "source": [
    "□上の公式を使って，dfの各種データについてのヒストグラムを描こう："
   ]
  },
  {
   "cell_type": "code",
   "execution_count": 9,
   "metadata": {},
   "outputs": [
    {
     "data": {
      "image/png": "[encoded data removed]",
      "text/plain": [
       "<Figure size 1440x1440 with 9 Axes>"
      ]
     },
     "metadata": {
      "needs_background": "light"
     },
     "output_type": "display_data"
    }
   ],
   "source": [
    "df.hist(figsize=(20, 20), bins=20)\n",
    "plt.show()"
   ]
  },
  {
   "cell_type": "markdown",
   "metadata": {},
   "source": [
    "### 1-2. 分析"
   ]
  },
  {
   "cell_type": "markdown",
   "metadata": {},
   "source": [
    "⬛︎ ヒストグラム，正規Q-Qプロットおよび箱ひげ図を横に並べて描く(p.290)。  \n",
    "□その前に，必要なデータフレーム関するメソッドと，`matplotlib.pyplot`モジュールにあるグラフ描画のための関数の公式を書いておこう："
   ]
  },
  {
   "cell_type": "markdown",
   "metadata": {},
   "source": [
    "****\n",
    "**```\n",
    "データフレームオブジェクト.columns.values\n",
    "```**  \n",
    "`Return : データフレーム`の行番号またはそれに当たる項目名のリストを返す。\n",
    "****"
   ]
  },
  {
   "cell_type": "markdown",
   "metadata": {},
   "source": [
    "**``\n",
    "データフレームオブジェクト['項目名']\n",
    "``**  \n",
    "`Return : `データフレームの指定された**`'項目名'`**に対応する項目の**データシリーズ**を取り出す。\n",
    "> 取り出したデータは`pandas`の`Series`（正確には`pandas.core.series.Series`）というオブジェクトで\n",
    "```\n",
    "0          8\n",
    "1          8\n",
    "2          2\n",
    "3          2\n",
    "4          2\n",
    "5          2\n",
    "6         -4\n",
    "7        -16\n",
    "8        -16\n",
    "9        -16\n",
    "10         2\n",
    "11       -10\n",
    "12       -10\n",
    "13       -16\n",
    "```  \n",
    ">という**データシリーズ**を返す。ここで上記右列の`0,1,2,...,13`は単なるレコード番号，左列の`8,8,2,...-16`はデータである。\n",
    "****"
   ]
  },
  {
   "cell_type": "markdown",
   "metadata": {},
   "source": [
    "**``\n",
    "データフレームオブジェクト.iloc[:, 列のindex]\n",
    "``**  \n",
    "`Return : `データフレームの指定された**`列のindex (0,1,2,...)`**に対応する項目の**データシリーズ**を取り出す。\n",
    "****"
   ]
  },
  {
   "cell_type": "markdown",
   "metadata": {},
   "source": [
    "**``\n",
    "データフレームオブジェクト.iloc[行のindex, :]\n",
    "``**  \n",
    "`Return : `データフレームの指定された**`行のindex (0,1,2,...)`**に対応する項目行の**データフレーム**を取り出す。\n",
    "****"
   ]
  },
  {
   "cell_type": "markdown",
   "metadata": {},
   "source": [
    "**``\n",
    "データフレームオブジェクト.iloc[:, 列のindex1:列のindex2+1]\n",
    "``**  \n",
    "`Return : `データフレームの指定された**`列のindex1`〜`列のindex2`**に対応する連続した複数の項目列の**データシリーズ**を取り出す。\n",
    "****"
   ]
  },
  {
   "cell_type": "markdown",
   "metadata": {},
   "source": [
    "**``\n",
    "データフレームオブジェクト.iloc[行のindex1:行のindex2+1, :]\n",
    "``**  \n",
    "`Return : `データフレームの指定された**`行のindex1`〜`行のindex2`**に対応する連続した複数の項目行の**データフレーム**を取り出す。\n",
    "****"
   ]
  },
  {
   "cell_type": "markdown",
   "metadata": {},
   "source": [
    "**``\n",
    "データフレームオブジェクト.iloc[行のindex1:行のindex2+1, : 列のindex1:列のindex2+1]\n",
    "``**  \n",
    "`Return : `データフレームの指定された**`行のindex1`〜`行のindex2`**, **`列のindex1`〜`列のindex2`**に対応する連続した複数の項目行の**データフレーム**を取り出す。\n",
    "****"
   ]
  },
  {
   "cell_type": "markdown",
   "metadata": {},
   "source": [
    "**```\n",
    "plt.hist(データシリーズ, bins=正の整数)\n",
    "```**  \n",
    "` Return : データシリーズ`のヒストグラムオブジェクト。\n",
    "- `bins=正の整数` は階級数の指定（省略した場合は階級数10）。\n",
    "****"
   ]
  },
  {
   "cell_type": "markdown",
   "metadata": {},
   "source": [
    "**```\n",
    "stats.probplot(データシリーズ, dist=\"norm\", plot=plt)\n",
    "```**  \n",
    "`Return : データシリーズ`の正規Q-Qプロットオブジェクト。\n",
    "****"
   ]
  },
  {
   "cell_type": "markdown",
   "metadata": {},
   "source": [
    "**```\n",
    "plt.boxplot(データシリーズ, labels=リスト)\n",
    "```**  \n",
    "` Return : データシリーズ`の箱ひげ図オブジェクト。\n",
    "- `labels=リスト`は複数の箱ひげ図に項目名を表示する場合に使用する（省略した場合は，`1,2,...`と表示されるので，これが不必要な場合は`labels=['']`とすればよい）。\n",
    "****"
   ]
  },
  {
   "cell_type": "markdown",
   "metadata": {},
   "source": [
    "□まずはデータフレームdfから，項目リストを取得する："
   ]
  },
  {
   "cell_type": "code",
   "execution_count": 10,
   "metadata": {},
   "outputs": [
    {
     "name": "stdout",
     "output_type": "stream",
     "text": [
      "['item' 'time' 'acc_x' 'acc_y' 'acc_z' 'omega_x' 'omega_y' 'omega_z']\n"
     ]
    }
   ],
   "source": [
    "items = df.columns.values\n",
    "print(items)"
   ]
  },
  {
   "cell_type": "markdown",
   "metadata": {},
   "source": [
    "> リスト変数`items`に`df`の項目名が，確かに取得されている。"
   ]
  },
  {
   "cell_type": "markdown",
   "metadata": {},
   "source": [
    "□`for`文を使って，`'acc_x', 'acc_y', 'acc_z', 'omega_x', 'omega_y', 'omega_z'`のヒストグラム，Q-Qプロット，箱ひげ図を順に描画していく："
   ]
  },
  {
   "cell_type": "code",
   "execution_count": 11,
   "metadata": {},
   "outputs": [
    {
     "data": {
      "image/png": "[encoded data removed]",
      "text/plain": [
       "<Figure size 1296x360 with 3 Axes>"
      ]
     },
     "metadata": {
      "needs_background": "light"
     },
     "output_type": "display_data"
    },
    {
     "data": {
      "image/png": "[encoded data removed]",
      "text/plain": [
       "<Figure size 1296x360 with 3 Axes>"
      ]
     },
     "metadata": {
      "needs_background": "light"
     },
     "output_type": "display_data"
    },
    {
     "data": {
      "image/png": "[encoded data removed]",
      "text/plain": [
       "<Figure size 1296x360 with 3 Axes>"
      ]
     },
     "metadata": {
      "needs_background": "light"
     },
     "output_type": "display_data"
    },
    {
     "data": {
      "image/png": "[encoded data removed]",
      "text/plain": [
       "<Figure size 1296x360 with 3 Axes>"
      ]
     },
     "metadata": {
      "needs_background": "light"
     },
     "output_type": "display_data"
    },
    {
     "data": {
      "image/png": "[encoded data removed]",
      "text/plain": [
       "<Figure size 1296x360 with 3 Axes>"
      ]
     },
     "metadata": {
      "needs_background": "light"
     },
     "output_type": "display_data"
    },
    {
     "data": {
      "image/png": "[encoded data removed]",
      "text/plain": [
       "<Figure size 1296x360 with 3 Axes>"
      ]
     },
     "metadata": {
      "needs_background": "light"
     },
     "output_type": "display_data"
    }
   ],
   "source": [
    "for i in range(2,8):           #iについて2,3,...,7を逐次代入して以下のブロックを繰り返す\n",
    "\n",
    "    plt.figure(figsize=(18,5)) #１描画パレットをサイズを18:5に設定\n",
    "\n",
    "    ###### ヒストグラム #####\n",
    "    plt.subplot(1,3,1)                  #パレットを1行3列に分割し，最左列に以下のグラフを描画\n",
    "    plt.hist(df.iloc[:, i], bins=20)    #dfのi列目の項目データについて100区切りのヒストグラムを描画\n",
    "    plt.xlabel(f'{items[i]}')           #x軸ラベルをitemリストのi番目の要素に設定\n",
    "    plt.ylabel('frequency')             #y軸ラベルを'frequency'に設定\n",
    "\n",
    "    ##### Q-Qプロット #####\n",
    "    plt.subplot(1,3,2)                                    #パレットを1行3列に分割し，中間列に以下のグラフを描画\n",
    "    stats.probplot(df.iloc[:, i], dist=\"norm\", plot=plt)  #dfのi列目の項目データのQ-Qプロットを描画\n",
    "    plt.xlabel('theoretical quantile')                    #x軸ラベルを'theoretical quantile'に設定\n",
    "    plt.ylabel(f'{items[i]}')                             #y軸ラベルをitemリストのi番目の要素に設定\n",
    "\n",
    "    ##### 箱ひげ図 #####\n",
    "    plt.subplot(1,3,3)                       #パレットを1行3列に分割し，最右列に以下のグラフを描画\n",
    "    plt.boxplot(df.iloc[:, i], labels=[''])  #dfのi列目の項目データの箱ひげ図を描画(x軸メモリに何も表示しない)\n",
    "    plt.ylabel(f'{items[i]}')                #y軸ラベルをitemリストのi番目の要素に設定\n",
    "    \n",
    "    plt.show()  #各種グラフ描画関数の戻り値を表示しない"
   ]
  },
  {
   "cell_type": "markdown",
   "metadata": {},
   "source": [
    "> "
   ]
  },
  {
   "cell_type": "markdown",
   "metadata": {},
   "source": [
    "> 角速度についてのヒストグラムが**歯抜け**していることは気にするな。これは，階級数の取り方で異なってくる。重要なのは，正規Q-Qプロットで，全て**理論直線上**に乗る。これでデータの度数分布が**正規分布**していることが分かる。"
   ]
  },
  {
   "cell_type": "markdown",
   "metadata": {},
   "source": [
    "⬛︎ 以下のメソッドでデータの度数分布の**尖度**と**歪度**を調べれば，データの正規分布性を数値的に確かめられる。"
   ]
  },
  {
   "cell_type": "markdown",
   "metadata": {},
   "source": [
    "****\n",
    "**```\n",
    "データシリーズ.kurt()\n",
    "```**  \n",
    "`Return :` データシリーズの度数分布の尖度を算出し，値が0に近ければ正規分布に近い(完全な正規分布は0)。\n",
    "- 尖度は度数分布の正規分布からの尖り具合の指標で，正なら完全正規分布から尖っており，負ならへしゃげている。\n",
    "****"
   ]
  },
  {
   "cell_type": "markdown",
   "metadata": {},
   "source": [
    "**```\n",
    "データシリーズ.skew()\n",
    "```**  \n",
    "`Return :` データシリーズの度数分布の歪度を算出し，値が0に近ければ正規分布に近い(完全な正規分布は0)。\n",
    "- 歪度は度数分布の正規分布からの左右の偏り具合の指標で，正なら完全正規分布から右に偏り，負なら左に偏っている。\n",
    "****"
   ]
  },
  {
   "cell_type": "markdown",
   "metadata": {},
   "source": [
    "□まず`data_items`というリスト変数に，データフレームの物理量の全ての項目名を順に並べておく："
   ]
  },
  {
   "cell_type": "code",
   "execution_count": 12,
   "metadata": {},
   "outputs": [
    {
     "name": "stdout",
     "output_type": "stream",
     "text": [
      "['acc_x' 'acc_y' 'acc_z' 'omega_x' 'omega_y' 'omega_z']\n"
     ]
    }
   ],
   "source": [
    "data_items = items[2:]\n",
    "print(data_items)"
   ]
  },
  {
   "cell_type": "markdown",
   "metadata": {},
   "source": [
    "□`data_items`のそれぞれの要素の項目について，尖度と歪度を求める："
   ]
  },
  {
   "cell_type": "code",
   "execution_count": 13,
   "metadata": {},
   "outputs": [
    {
     "name": "stdout",
     "output_type": "stream",
     "text": [
      "acc_x:  kurt=0.022680681379089407  skew=-0.008121965097061451\n",
      "acc_y:  kurt=0.03729947152233848  skew=-0.015823897984537944\n",
      "acc_z:  kurt=0.03153895542050922  skew=0.010085299970719984\n",
      "omega_x:  kurt=-0.1599044840761379  skew=-0.0309501272548534\n",
      "omega_y:  kurt=0.1350136958984276  skew=0.06501324388996166\n",
      "omega_z:  kurt=0.010642898099706422  skew=-0.008275750648545572\n"
     ]
    }
   ],
   "source": [
    "for i in data_items:\n",
    "    print(f'{i}:  kurt={df[i].kurt()}  skew={df[i].skew()}')"
   ]
  },
  {
   "cell_type": "markdown",
   "metadata": {},
   "source": [
    "> 全ての物理量の度数分布の尖度と歪度は0に非常に近い。これらのことと，ヒストグラムおよび正規Q-Qプロットの結果を総合して，センサのノイズの度数分布は全て正規分布しているといえるだろう。"
   ]
  },
  {
   "cell_type": "markdown",
   "metadata": {},
   "source": [
    "### 1-3. 結論"
   ]
  },
  {
   "cell_type": "markdown",
   "metadata": {},
   "source": [
    "◼️ 床(机上)に静止させたセンサの計測データより，物理データにはノイズが存在することが分かった。これらのノイズは正規分布する。ガウシアンノイズと呼ばれるこれらのノイズは，計測機器に普通に現れる機械的誤差の一部であり，実地の計測に影響を及ぼす可能性がある。特に微小な運動を計測する場合には，これらのノイズを考慮して慎重に実験計画を立ててそれを実行しなければならない。また，データ分析を行う際，これらのノイズを取り除く方法は，各種のフィルタリングという数学的方法をコンピュータに実装して行われるが完全なものではない。したがって，データを分析して結果を出す際には，前述のことを踏まえて，どの程度の誤差が生じているのかを見積もり，それを明らかにしておく必要がある。なお，ノイズが正規分布していない場合，つまりガウシアンノイズでない場合，計測機器の純粋なノイズ以外に別種のノイズが混ざっている可能性があるので，原因を調査し，その要因を極力取り除かなければならない。"
   ]
  },
  {
   "cell_type": "markdown",
   "metadata": {},
   "source": [
    "### 1-4. 注意"
   ]
  },
  {
   "cell_type": "markdown",
   "metadata": {},
   "source": [
    "⬛︎ ここで用いたデータは，坂本先生が新たに，静寂な研究室で慎重に計測したものであるので，（同じ機器でも）君達のデータとは異なった結果が出ていると思う。なぜか？　どうすればよいか？　考えて考察に述べよ。\n",
    "> ヒストグラムの両端のロングテール部分に現れる比較的少数の小さな検出値は，センサ固有のものではない。この部分(**外れ値**)を取り除く関数を用意したので，そのモジュールをDLしてして使ってみよ。外れ値は，`平均 ± 4×標準偏差`の範囲から外れるデータとしている。\n",
    "```\n",
    "    import remove_outlieis as ro\n",
    "    ro.remove_outlieis(データフレームオブジェクト, 項目名) \n",
    "```\n",
    "> で実行できる。詳しくは，\n",
    "```\n",
    "    ro.remove_outlieis?\n",
    "```\n",
    "でマニュアルが表示されるので，それを読め。"
   ]
  },
  {
   "cell_type": "markdown",
   "metadata": {},
   "source": [
    "## 2. バイアス"
   ]
  },
  {
   "cell_type": "markdown",
   "metadata": {},
   "source": [
    "⬛︎ データフレームの統計的要約の平均(`mean`)と標準偏差(`std`)の部分をみてみよう："
   ]
  },
  {
   "cell_type": "code",
   "execution_count": 14,
   "metadata": {},
   "outputs": [
    {
     "data": {
      "text/html": [
       "<div>\n",
       "<style scoped>\n",
       "    .dataframe tbody tr th:only-of-type {\n",
       "        vertical-align: middle;\n",
       "    }\n",
       "\n",
       "    .dataframe tbody tr th {\n",
       "        vertical-align: top;\n",
       "    }\n",
       "\n",
       "    .dataframe thead th {\n",
       "        text-align: right;\n",
       "    }\n",
       "</style>\n",
       "<table border=\"1\" class=\"dataframe\">\n",
       "  <thead>\n",
       "    <tr style=\"text-align: right;\">\n",
       "      <th></th>\n",
       "      <th>time</th>\n",
       "      <th>acc_x</th>\n",
       "      <th>acc_y</th>\n",
       "      <th>acc_z</th>\n",
       "      <th>omega_x</th>\n",
       "      <th>omega_y</th>\n",
       "      <th>omega_z</th>\n",
       "    </tr>\n",
       "  </thead>\n",
       "  <tbody>\n",
       "    <tr>\n",
       "      <th>mean</th>\n",
       "      <td>5.320578e+07</td>\n",
       "      <td>36.918793</td>\n",
       "      <td>-51.503087</td>\n",
       "      <td>10187.744408</td>\n",
       "      <td>-77.517487</td>\n",
       "      <td>-45.746362</td>\n",
       "      <td>-16.654248</td>\n",
       "    </tr>\n",
       "    <tr>\n",
       "      <th>std</th>\n",
       "      <td>8.082947e+04</td>\n",
       "      <td>32.906436</td>\n",
       "      <td>30.996179</td>\n",
       "      <td>43.780445</td>\n",
       "      <td>8.857339</td>\n",
       "      <td>9.304337</td>\n",
       "      <td>8.396877</td>\n",
       "    </tr>\n",
       "  </tbody>\n",
       "</table>\n",
       "</div>"
      ],
      "text/plain": [
       "              time      acc_x      acc_y         acc_z    omega_x    omega_y  \\\n",
       "mean  5.320578e+07  36.918793 -51.503087  10187.744408 -77.517487 -45.746362   \n",
       "std   8.082947e+04  32.906436  30.996179     43.780445   8.857339   9.304337   \n",
       "\n",
       "        omega_z  \n",
       "mean -16.654248  \n",
       "std    8.396877  "
      ]
     },
     "execution_count": 14,
     "metadata": {},
     "output_type": "execute_result"
    }
   ],
   "source": [
    "df.describe().iloc[1:3]"
   ]
  },
  {
   "cell_type": "markdown",
   "metadata": {},
   "source": [
    "> ※）データフレーム`df`に**`describe`**メソッドを作用させると，`df`の要約統計量が**表形式**で作成されるが，これは実は**データフレーム**オブジェクトであるので，それにもまた**`iloc`**プロパティが適用できることに注意。"
   ]
  },
  {
   "cell_type": "markdown",
   "metadata": {},
   "source": [
    "⬛︎ センサを静止しさせているにも関わらず，加速度と角速度が計測されている。例えば加速度のx成分は`3.6846638[mG]`, 角速度のx成分は`-0.77461077[deg/sec]`である。ただし，加速度z成分は`1018.796412[mG]`で重力加速度の大きさとほぼ同等(ただし重力加速度ときっちり同じ値ではない)の加速度を検出している。  \n",
    "> なお，標準偏差はノイズの(平均からの)ばらつき程度である。"
   ]
  },
  {
   "cell_type": "markdown",
   "metadata": {},
   "source": [
    "⬛︎ センサを静止させている場合，横方向加速度(`acc_x`と`acc_y`)の平均は`0`に，鉛直方向加速度(`acc_z`)の平均が`10000`に，角速度(`omega_x`, `omega_y`, `omega_z`)の全ての成分の平均が`0`にならなければならない(このセンサの加速度の単位は$10^{-1}$mG，角速度の単位は$10^{-2}$deg/secであることに注意)が，そうはなっていない。これは，電子機器（今の場合は圧電素子）を用いて計測値（今の場合は加速度・角速度）を正しく（電気）信号伝達するために，予め一定の電圧をかけておかなければならないことに起因する。この予めかけられらた一定電圧のことを**バイアス**という。センサは内部で信号伝達後にバイアスを取り除いて再計算し計測値を補正しているのであるが，実験は出荷時とは異なる環境（気温や気圧他）で行うので，バイアスがどうしても残ってしまう場合が多い。したがって，計測結果に現れるバイアスを予め知っておいて，計測機器（今の場合はセンサ）を調整する（センサではオフセットを設定し直す）か，データ分析で補正するか（静止データで，`acc_x`, `acc_y`, `omega_x`, `omega_y`, `omega_z`では平均値を差し引き，`acc_z`は平均値の`10000`からのズレを差し引く）のどちらかを行う必要がある。  \n",
    "> ただし，実験によってはバイアスが無視できる場合がある。"
   ]
  },
  {
   "cell_type": "markdown",
   "metadata": {},
   "source": [
    "## 3. 重力加速度"
   ]
  },
  {
   "cell_type": "markdown",
   "metadata": {},
   "source": [
    "◼️ 地球上での重力加速度の大きさは，$9.806[\\mathrm{m/s}^2]$で，これを単位として$1[\\mathrm{G}]$と表す場合がある（重力単位系）。本加速度センサは重力単位系を用いているが，出力する単位を$10^{-1}\\mathrm{mG}$としているので，$9.806[\\mathrm{m/s}^2]=10000[10^{-1}\\mathrm{mG}]$と出力する。§2で掲げた表で，`acc_z`の平均値が`10187.744408`を取っているのは，(バイアスを取り除くと)地球重力加速度を検出しているからである。さて，本実験でセンサz軸が鉛直上向きになるようにセンサを水平な机上に置いて計測したことを思い出そう。一方，地球に結び付けられた直交座標系$(\\mathrm{O}; \\bf{i}\\mathrm{,}\\ \\bf{j}\\mathrm{,}\\ \\bf{k})$の基本ベクトル$\\bf{i}$, $\\bf{j}$(それぞれx, y軸に沿う)を水平面上にとり，$\\bf{k}$(z軸に沿う)を鉛直上向きにとったとき，物体の重力は鉛直下向きにかかるので，重力加速度ベクトルは$-9.806\\bf{k}[\\mathrm{m/s}^2] = \\mathrm{-1}\\bf{k}[\\mathrm G]$である。明らかにセンサで計測された重力加速度は(正の値をとっているので)，地球に結び付けられた座標系における重力加速度とは，その符号が反転している。これはなぜか？"
   ]
  },
  {
   "cell_type": "markdown",
   "metadata": {},
   "source": [
    "> **ヒント:**\n",
    "1. よく知られたガリレオのピサの斜塔での実験で，異なる質量の物体の重力加速度は同じである\\*。\n",
    ">> \\*空気抵抗を無視する。\n",
    "2. 1の事実により，自由落下する閉ざされた箱の中にいる人は，その箱の内部で重力を感じない。実際，宇宙ステーションの中が無重力状態なのは，宇宙ステーションが自由落下しているからである\\**。\n",
    ">> \\**しかし，宇宙ステーションは地球表面に対してほぼ水平に高速で移動しているので地球に衝突しない！\n",
    "3. 2の逆もいえる。つまり，地球やその他の星から遠く離れた無重力の宇宙空間にある箱を重力加速度と同じ大きさで一直線に加速させたとき，箱の中にいる人は，その箱の内部であたかも地球上にいるのと同じ重力を感じる。\n",
    "4. センサは重力のことを知らない。"
   ]
  }
 ],
 "metadata": {
  "kernelspec": {
   "display_name": "Python 3",
   "language": "python",
   "name": "python3"
  },
  "language_info": {
   "codemirror_mode": {
    "name": "ipython",
    "version": 3
   },
   "file_extension": ".py",
   "mimetype": "text/x-python",
   "name": "python",
   "nbconvert_exporter": "python",
   "pygments_lexer": "ipython3",
   "version": "3.7.3"
  }
 },
 "nbformat": 4,
 "nbformat_minor": 2
}
