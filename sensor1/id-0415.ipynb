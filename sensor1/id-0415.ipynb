{
 "cells": [
  {
   "cell_type": "markdown",
   "metadata": {},
   "source": [
    "# 生体活動計測分析法演習レポート"
   ]
  },
  {
   "cell_type": "markdown",
   "metadata": {},
   "source": [
    "## 静止させた加速度・角速度センサの特性\n",
    "****"
   ]
  },
  {
   "cell_type": "markdown",
   "metadata": {},
   "source": [
    "学籍番号:"
   ]
  },
  {
   "cell_type": "markdown",
   "metadata": {},
   "source": [
    "氏　　名:"
   ]
  },
  {
   "cell_type": "markdown",
   "metadata": {},
   "source": [
    "****\n",
    "### 1. 目的 "
   ]
  },
  {
   "cell_type": "markdown",
   "metadata": {},
   "source": [
    "（目的本文をここに書く）"
   ]
  },
  {
   "cell_type": "markdown",
   "metadata": {},
   "source": [
    "****\n",
    "### 2. センサの加速度・角速度の計測原理"
   ]
  },
  {
   "cell_type": "markdown",
   "metadata": {},
   "source": [
    "（センサがどうやって加速度と角速度を計測するのかの原理をここに書く）"
   ]
  },
  {
   "cell_type": "markdown",
   "metadata": {},
   "source": [
    "****\n",
    "### 3. 方法"
   ]
  },
  {
   "cell_type": "markdown",
   "metadata": {},
   "source": [
    "#### 3-1. 実験方法"
   ]
  },
  {
   "cell_type": "markdown",
   "metadata": {},
   "source": [
    "（実験方法をここに書く）"
   ]
  },
  {
   "cell_type": "markdown",
   "metadata": {},
   "source": [
    "#### 3-2. 分析方法"
   ]
  },
  {
   "cell_type": "markdown",
   "metadata": {},
   "source": [
    "（データ分析方法をここに書く）"
   ]
  },
  {
   "cell_type": "markdown",
   "metadata": {},
   "source": [
    "****\n",
    "### 4. データ分析"
   ]
  },
  {
   "cell_type": "code",
   "execution_count": 2,
   "metadata": {},
   "outputs": [],
   "source": [
    "import pandas as pd\n",
    "import matplotlib.pylab as plt\n",
    "import scipy.stats as stats"
   ]
  },
  {
   "cell_type": "code",
   "execution_count": null,
   "metadata": {},
   "outputs": [],
   "source": [
    "df = pd.read_csv"
   ]
  },
  {
   "cell_type": "markdown",
   "metadata": {},
   "source": [
    "****\n",
    "### 5. 結果"
   ]
  },
  {
   "cell_type": "markdown",
   "metadata": {},
   "source": [
    "#### 5-1. ノイズについて"
   ]
  },
  {
   "cell_type": "markdown",
   "metadata": {},
   "source": [
    "（センサのノイズについての結果をここに書く。データ分析を引用する場合は，§４で記した分析番号を示すこと。ここに簡単なPythonコードを実行したちょっとした結果を記しても良い。）"
   ]
  },
  {
   "cell_type": "markdown",
   "metadata": {},
   "source": [
    "#### 5-2. バイアスについて"
   ]
  },
  {
   "cell_type": "markdown",
   "metadata": {},
   "source": [
    "（センサのバイアスについての結果をここに書く。データ分析を引用する場合は，§４で記した分析番号を示すこと。ここに簡単なPythonコードを実行したちょっとした結果を記しても良い。）"
   ]
  },
  {
   "cell_type": "markdown",
   "metadata": {},
   "source": [
    "#### 5-3. 重力について"
   ]
  },
  {
   "cell_type": "markdown",
   "metadata": {},
   "source": [
    "（センサのバイアスについての結果をここに書く。データ分析を引用する場合は，§４で記した分析番号を示すこと。ここに簡単なPythonコードを実行したちょっとした結果を記しても良い。）"
   ]
  },
  {
   "cell_type": "markdown",
   "metadata": {},
   "source": [
    "****\n",
    "### 6. 考察"
   ]
  },
  {
   "cell_type": "markdown",
   "metadata": {},
   "source": [
    "（考察をここに書く。考察はサブセクションに分けても良い。その場合，\n",
    "#### 6-1. サブセクション見出し \n",
    "なんとか，なにがし...  \n",
    "というように「**サブセクション番号. 見出し**」をつけておくこと。）"
   ]
  },
  {
   "cell_type": "code",
   "execution_count": null,
   "metadata": {},
   "outputs": [],
   "source": []
  }
 ],
 "metadata": {
  "kernelspec": {
   "display_name": "Python 3",
   "language": "python",
   "name": "python3"
  },
  "language_info": {
   "codemirror_mode": {
    "name": "ipython",
    "version": 3
   },
   "file_extension": ".py",
   "mimetype": "text/x-python",
   "name": "python",
   "nbconvert_exporter": "python",
   "pygments_lexer": "ipython3",
   "version": "3.7.3"
  }
 },
 "nbformat": 4,
 "nbformat_minor": 2
}
