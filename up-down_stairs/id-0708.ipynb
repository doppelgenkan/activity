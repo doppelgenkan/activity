{
 "cells": [
  {
   "cell_type": "markdown",
   "metadata": {},
   "source": [
    "# 生体活動計測分析法演習レポート"
   ]
  },
  {
   "cell_type": "markdown",
   "metadata": {},
   "source": [
    "## 加速度・角速度センサを用いた階段昇降の動作分析\n",
    "****"
   ]
  },
  {
   "cell_type": "markdown",
   "metadata": {},
   "source": [
    "学籍番号："
   ]
  },
  {
   "cell_type": "markdown",
   "metadata": {},
   "source": [
    "氏　　名："
   ]
  },
  {
   "cell_type": "markdown",
   "metadata": {},
   "source": [
    "****\n",
    "### １．目的 "
   ]
  },
  {
   "cell_type": "markdown",
   "metadata": {},
   "source": [
    "ここに目的を書く。"
   ]
  },
  {
   "cell_type": "markdown",
   "metadata": {},
   "source": [
    "***\n",
    "### ２．方法"
   ]
  },
  {
   "cell_type": "markdown",
   "metadata": {},
   "source": [
    "　ここに実験方法と分析方法を書く。  \n",
    "　なお，分析方法のPythonコードの詳細は別Notebook(学籍番号-analysis-0707.ipynb)に行い，ここには何をどうやったかの説明を書くこと。また，図の挿入は以下の通り。"
   ]
  },
  {
   "cell_type": "markdown",
   "metadata": {},
   "source": [
    "<center><figure>\n",
    "    <img src=\"DSC_0599.JPG\" width=\"300\">\n",
    "    <figcaption>図１．センサの取り付け</figcaption>\n",
    "</figure></center>"
   ]
  },
  {
   "cell_type": "markdown",
   "metadata": {},
   "source": [
    "また，これでも良い。  \n",
    "\n",
    "<center><figure>\n",
    "    <img src=\"DSC_0599.JPG\" width=\"100\">\n",
    "</figure></center>\n",
    "<center>図１b．小さめの図</center>"
   ]
  },
  {
   "cell_type": "markdown",
   "metadata": {},
   "source": [
    "***\n",
    "### ３．結果"
   ]
  },
  {
   "cell_type": "markdown",
   "metadata": {},
   "source": [
    "　ここに実験方法と分析方法を書く。図の挿入は以下の通り。  \n",
    "\n",
    "<center><figure>\n",
    "    <img src=\"fig1.png\">\n",
    "    <figcaption>図２．位相空間における膝屈曲角運動</figcaption>\n",
    "</figure></center>    \n",
    "\n",
    "　また，表の挿入は以下の通り。（まだ表はこんな技でしかできないんだ。）次の行を新しいセルに分割してもいい。  "
   ]
  },
  {
   "cell_type": "markdown",
   "metadata": {},
   "source": [
    "<center>表１．なにこれ？</center>  \n",
    "\n",
    "| 昇降 | １段飛ばし | 時刻範囲[ms] | 衝撃時刻[ms] |  \n",
    "|---|---|---|---|  \n",
    "| 昇 | なし | 8000 - 9000 | 8625 - 8725 |\n",
    "| 降 | なし | 22000 - 23000 | 22010 - 22100 |\n",
    "| 昇 | あり | 56000 - 58000 | 56625 - 56700 |\n",
    "| 降 | あり | 66000 - 68000 | 66475 - 66530 |"
   ]
  },
  {
   "cell_type": "markdown",
   "metadata": {},
   "source": [
    "ここから続きをかいていい。また，細かくセルに分割してもいい。  \n",
    "　式はこんな感じに書く（新しいセルに分割してもいい）：\n",
    " \n",
    "$$\\theta = \\alpha - \\beta$$\n",
    "\n",
    "$$\\omega = \\omega_{1z} - \\omega_{2z}$$\n",
    "\n",
    "$$\\alpha = \\int{\\omega_{1z}}dt$$\n",
    "\n",
    "$$\\beta = \\int{\\omega_{1z}}dt$$\n",
    "\n",
    "ここで，$\\omega_{1z}$は大腿傾き角速度，$\\alpha$は大腿傾き角，$\\omega_{2z}$は下腿傾き角速度，$\\beta$は下腿傾き角，$\\theta$は膝屈曲角，$\\omega$は膝屈曲角速度である。"
   ]
  },
  {
   "cell_type": "markdown",
   "metadata": {},
   "source": [
    "***\n",
    "### ４．考察"
   ]
  },
  {
   "cell_type": "markdown",
   "metadata": {},
   "source": [
    "　考察はここから書く。"
   ]
  },
  {
   "cell_type": "markdown",
   "metadata": {},
   "source": [
    "***\n",
    "### 参考文献  \n",
    "なければこのセルを削除"
   ]
  },
  {
   "cell_type": "markdown",
   "metadata": {},
   "source": [
    "1. なにがし\n",
    "2. なんとか\n",
    "3. なければこのセルを削除"
   ]
  }
 ],
 "metadata": {
  "kernelspec": {
   "display_name": "Python 3",
   "language": "python",
   "name": "python3"
  },
  "language_info": {
   "codemirror_mode": {
    "name": "ipython",
    "version": 3
   },
   "file_extension": ".py",
   "mimetype": "text/x-python",
   "name": "python",
   "nbconvert_exporter": "python",
   "pygments_lexer": "ipython3",
   "version": "3.7.3"
  }
 },
 "nbformat": 4,
 "nbformat_minor": 2
}
