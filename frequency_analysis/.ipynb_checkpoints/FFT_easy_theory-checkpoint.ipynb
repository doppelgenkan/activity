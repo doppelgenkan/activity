{
 "cells": [
  {
   "cell_type": "markdown",
   "metadata": {},
   "source": [
    "# 周波数解析の簡単な解説"
   ]
  },
  {
   "cell_type": "markdown",
   "metadata": {},
   "source": [
    "## 1. NumpyによるFFT"
   ]
  },
  {
   "cell_type": "markdown",
   "metadata": {},
   "source": [
    "Numpyを  \n",
    "```\n",
    "import numpy as np\n",
    "```\n",
    "としてインポートしていることを前提としている。"
   ]
  },
  {
   "cell_type": "markdown",
   "metadata": {},
   "source": [
    "***\n",
    "### 【公式1】FFT（高速フーリエ変換）\n",
    "サンプルリング周波数$H$Hzの時系列データ配列（1D-numpy配列が望ましい）で，うまく$2^n$（$n$は自然数）個の要素に切り取られた配列を`arr`とする。そのとき，Numpy関数`np.fft.fft`を用いて\n",
    "```\n",
    "F_arr = np.fft.fft(arr)/len(arr)\n",
    "```\n",
    "として得られた`F_arr`は，`arr`を離散**フーリエ変換**した配列である。ここで右辺の`F_arr`は`arr`と**同じ要素数**`len(arr)`$=2^n$の**複素数**を要素にもつ配列である。  \n",
    "　　`k = 0, 1, 2, ...`に対して，`F_arr[k]`はデータ`arr`の周波数$\\frac{H}{2^n}k$[Hz]のスペクトルとよばれる。なお，`F_arr[0]`は`arr`の平均値（実数）に等しく，直流成分とよばれる。\n",
    "> 1. 厳密には，この時系列データは周期関数的に変動することが仮定されている。\n",
    "2. `len(arr)`が$2^n$**でない**ときでも，関数`np.fft.fft`は`arr`のFFTを行う。しかし，より正確かつ高速にFFTを行うには，`len(arr)`$=2^n$であるのが望ましい（でなければならない）。\n",
    "3. 離散フーリエ変換の定義の違いによって，配列`arr`の要素数`len(arr)`$=2^n$で除さないときもある。Numpyでは`len(arr)`$=2^n$で除さないものを離散フーリエ変換の定義にしていることに注意。\n",
    "4. `len(arr)`で除したのは，セクション２で述べられることと合致させるためである。実際，フーリエ変換の定義は**分野**によって異なる。ここでは，フーリエ変換を**フーリエ級数**と直接結びつけるために**\"`len(arr)`で除す\"**定義を採用した。つまり，結果を直感的にするために`len(arr)`で除した。"
   ]
  },
  {
   "cell_type": "markdown",
   "metadata": {},
   "source": [
    "***\n",
    "### 【公式2】逆FFT（逆高速フーリエ変換）\n",
    "サンプルリング周波数$H$Hzの時系列データ配列（1D-numpy配列が望ましい）で，うまく$2^n$（$n$は自然数）個の要素に切り取られた実数データ配列を`arr`とし，`arr`公式1のようにスペクトル配列`F_arr`にスペクトル分解されていたとする。そのとき，`F_arr`は次の公式によって，元のデータ配列`arr`に戻すことができる：\n",
    "```\n",
    "arr = np.real(np.fft.ifft(F_arr)*len(F_arr))\n",
    "```\n",
    "`arr`は，`F_arr`を離散**逆フーリエ変換**した配列である。ここで右辺の`arr`は`F_arr`と**同じ要素数**`len(F_arr)`$=2^n$の**複素数**を要素にもつ配列である。  \n",
    "　　データ`arr`は原信号と呼ばれ，`arr[l]`のindex `l = 0, 1, 2, ...`はサンプリング開始時刻を$0$としてそれぞれ，`t` = $0, \\frac{1}{H}, \\frac{2}{H}, ..., \\frac{l}{H}, ..., \\frac{2^n-1}{H} $[sec]である。  \n",
    "> 1. `len(F_arr)`で乗じたのは，公式1において，もともとNumpyに実装されているFFT関数を`len(arr)`で除しているためである。\n",
    "2. `np.real`関数を作用させているのは，結果が（事実上0の虚数部をもつ）複素数で出力されるため，実数部のみをとる（虚数部を捨てる）ためである。\n",
    "***"
   ]
  },
  {
   "cell_type": "markdown",
   "metadata": {},
   "source": [
    "## 2. FFTの解説 \n",
    "　ここではコンピュータで扱う**高速離散フーリエ変換（FFT）**の解説を行うので，時系列データの**サンプリング数（要素数）を特殊なケースの$2^n$にとる**が，一般の離散フーリエ変換（DFT）のサンプリング数は$N(>H)$でよい（$H$はサンプリング周波数）。  \n",
    " \n",
    "　有名な**オイラーの公式**：$e^{i\\theta}=\\cos\\theta+i\\sin\\theta$（ここで，$i=\\sqrt{-1}$）を用いるが，この公式ぐらい暗記しておいても損はない。また，$e^{i\\theta}$の**複素共役**は，$\\cos\\theta-i\\sin\\theta=\\cos(-\\theta)+i\\sin(-\\theta)=e^{-i\\theta}$であることも付け加えておく。  \n",
    "\n",
    "　簡単のため，サンプリング開始時刻$t_0$を$0$とし，十分大きな$2^n$（$n$は自然数）をとって，サンプリング周波数$H$のデータの時刻$t$が，等間隔に$t$ $\\simeq \\{ t_0, t_1, t_2, ...,t_l,..., t_{2^n-1} \\}$ $=\\{ 0, t_1, t_2, ...,t_l,..., t_{2^n-1} \\}$と離散化されているとする。ここで，$\\tau$ $:=$ $1/H$ $=t_1-t_0$ $(=t_1-0)$ $=t_2-t_1$ $=...=t_l-t_{l-1}$ $=...=t_{2^n-1}-t_{2^n-2}$とおく。そうすると，実数データ$\\xi(t)$も離散化されて，$\\xi = \\xi(t)$ $\\simeq \\{\\xi(t_0), \\xi(t_1), \\xi(t_2), ..., \\xi(t_l),...,\\xi(t_{2^n-1}) \\}$ $= \\{\\xi(0), \\xi(\\tau), \\xi(2\\tau), ..., \\xi(l\\tau),...,\\xi((2^n-1)\\tau) \\}$$=:\\{\\xi_0, \\xi_1, \\xi_2, ..., \\xi_l,...,\\xi_{2^n-1} \\}$となる。\n",
    "\n",
    "　さて，$\\xi_l\\ \\ (l=0,1,2,...,2^{n}-1)$は，\n",
    "\n",
    "$$\n",
    "\\xi_l=F_0+F_1e^{2\\pi i\\frac{1l}{2^n}}+F_2e^{2\\pi i\\frac{2l}{2^n}}+...\n",
    "+F_ke^{2\\pi i\\frac{kl}{2^n}}+...+F_{2^n-1}e^{2\\pi i\\frac{(2^n-1)l}{2^n}}\n",
    "\\tag{1}\n",
    "\\\\=\\sum_{k=0}^{2^n-1}F_ke^{2\\pi i\\frac{kl}{2^n}}\n",
    "$$\n",
    "\n",
    "と分解できることがわかっている。ここで，$l$はデータ番号といわれ，時刻$t_0+l\\tau(=l\\tau)$におけるデータを表す添字である。この$F_k$を，データ$\\{\\xi_l\\}$の周波数$\\frac{H}{2^n}k(=\\frac{1}{2^n \\tau}k)$のスペクトルといい，$(1)$を**フーリエ逆変換**という。  \n",
    "\n",
    "　$F_0$は実数で\n",
    "\n",
    "$$F_0=\\frac{1}{2^n}(\\xi_0+\\xi_1+\\xi_2+...+\\xi_{2^{n-1}}+...+\\xi_{2^n-1})\\\\\n",
    "=\\frac{1}{2^n}\\sum_{k=0}^{2^n-1}\\xi_{k}=:a_0. \\tag{2}$$\n",
    "\n",
    "つまり$F_0=a_0$は全データの平均であり，したがって実数である。  \n",
    "\n",
    "　$F_0$を除いた$\\{F_1, F_2, ..., F_{2^n}\\}$のちょうど中間に位置する$F_{2^{n-1}}(=F_{\\frac{2^n}{2}})$もまた実数で，\n",
    "\n",
    "$$F_{2^{n-1}}=\\frac{1}{2^n}(\\xi_0-\\xi_1+\\xi_2-\\xi_3+...-\\xi_{2^{n-1}-1}+\\xi_{2^{n-1}}-\\xi_{2^{n-1}+1}+...+\\xi_{2^n-2}-\\xi_{2^n-1})\\\\\n",
    "=\\frac{1}{2^n}\\sum_{k=0}^{2^n-1}(-1)^k\\xi_{k}=:a_{2^{n-1}} \\tag{3}$$\n",
    "\n",
    "で与えられる。これをスペクトルの**ナイキスト成分**といい，このときの周波数$\\frac{H}{2}=\\frac{1}{2\\tau}$を**ナイキスト周波数**とよぶ。$(1)$における，$F_{2^{n-1}}=a_{2^{n-1}}$の係数は\n",
    "\n",
    "$$\n",
    "e^{2\\pi i\\frac{2^{n-1}l}{2^n}}=\\cos(2\\pi \\frac{2^{n-1}l}{2^n})+i\\sin(2\\pi \\frac{2^{n-1}l}{2^n})=\\cos(\\pi l)=(-1)^l \\tag{4}\n",
    "$$\n",
    "\n",
    "で，これも実数である。 ここで，$\\sin(\\pi l)=0$に注意せよ。後の便宜のため，$(1)$における$F_{2^{n-1}}$の項を\n",
    "\n",
    "$$\n",
    "F_{2^{n-1}}e^{2\\pi i\\frac{2^{n-1}l}{2^n}}=a_{2^{n-1}}(-1)^l\n",
    "$$\n",
    "\n",
    "としておこう。  \n",
    "\n",
    "　その他の$F_k$は一般的に複素数なので，\n",
    "\n",
    "$$F_k =: a_k-ib_k \\tag{6}$$ \n",
    "\n",
    "とおける。ここで，$a_k,\\ b_k$は実数。そうすると，\n",
    "\n",
    "$$\n",
    "a_k=\\frac{1}{2^n}\\sum_{l=0}^{2^n-1} \\xi_l \\cos(\\frac{2\\pi kl}{2^n}),\\ \\ \n",
    "b_k=\\frac{1}{2^n}\\sum_{l=0}^{2^n-1} \\xi_l \\sin(\\frac{2\\pi kl}{2^n}) \\tag{7}\n",
    "$$\n",
    "\n",
    "と書けることがわかっている。$(7)$の２つの式の右辺は気にするな。重要なのは，$0<k<2^{n-1}$で  \n",
    "\n",
    "$$F_{2^n-k}=\\overline{F_k}=a_k+ib_k \\tag{8}$$\n",
    "\n",
    "となることだ（$\\cos$が偶関数，$\\sin$が奇関数からこのことはほとんど自明）。ここで，記号の上に引いてあるバーは，それの複素共役を示している。$(8)$の関係式は，$(1)$の$a_0,\\ a_{2^{n-1}}$の項以外の項の和が実数であることを保証する（エルミート性）。実際，$(1)$における$F_k$の項と$F_{2^n-k}$の項の和は，\n",
    "\n",
    "$$\n",
    "F_{k}e^{2\\pi i\\frac{kl}{2^n}}+F_{2^n-k}e^{2\\pi i\\frac{(2^n-k)l}{2^n}}\n",
    "=F_{k}e^{2\\pi i\\frac{kl}{2^n}}+\\overline{F_k}e^{-2\\pi i\\frac{kl}{2^n}}\\\\\n",
    "=F_{k}e^{2\\pi i\\frac{kl}{2^n}}+\\overline{F_ke^{2\\pi i\\frac{kl}{2^n}}}\\\\\n",
    "=2a_k\\cos(\\frac{2\\pi kl}{2^n})+2b_k\\sin(\\frac{2\\pi kl}{2^n}),\\ \\ (k\\neq0,\\ 2^{n-1}) \\tag{9}\n",
    "$$\n",
    "\n",
    "となり，実数である。  \n",
    "\n",
    "　$(2),(3),(5),(9)$から，$(1)$は\n",
    "\n",
    "$$\n",
    "\\xi_l = \\xi(l\\tau) =\\xi(t_l)\n",
    "\\\\\n",
    "$$\n",
    "\n",
    "$$\n",
    "=a_0 +\n",
    "\\bigr\\{2a_1\\cos(\\frac{2\\pi 1l}{2^n})+2b_1\\sin(\\frac{2\\pi 1l}{2^n})\\bigr\\}\\\\\n",
    "+\\bigr\\{2a_2\\cos(\\frac{2\\pi 2l}{2^n})+2b_2\\sin(\\frac{2\\pi 2l}{2^n})\\bigr\\}+...\\\\\n",
    "...+\\bigr\\{2a_k\\cos(\\frac{2\\pi kl}{2^n})+2b_k\\sin(\\frac{2\\pi kl}{2^n})\\bigr\\}+...\\\\\n",
    "...+\\bigr\\{2a_{2^{n-1}-1}\\cos(\\frac{2\\pi (2^{n-1}-1)l}{2^n})+2b_{2^{n-1}-1}\\sin(\\frac{2\\pi (2^{n-1}-1)l}{2^n})\\bigr\\}\\\\\n",
    "+a_{2^{n-1}}(-1)^l\\\\\n",
    "$$\n",
    "$$\n",
    "=a_0+\\sum_{k=1}^{2^{n-1}-1}\\bigr\\{ 2a_k\\cos{\\frac{2\\pi lk}{2^n}} +  2b_k\\sin{\\frac{2\\pi lk}{2^n}}\\bigr\\}+a_{2^{n-1}}(-1)^l\n",
    "$$\n",
    "\n",
    "$$\n",
    "=a_0 +\n",
    "\\bigr\\{2a_1\\cos(2\\pi\\frac{H}{2^n}t_l)+2b_1\\sin(2\\pi\\frac{H}{2^n}t_l)\\bigr\\}\\\\\n",
    "+\\bigr\\{2a_2\\cos(2\\pi\\frac{2H}{2^n}t_l)+2b_2\\sin(2\\pi\\frac{2H}{2^n}t_l)\\bigr\\}+...\\\\\n",
    "...+\\bigr\\{2a_k\\cos(2\\pi\\frac{kH}{2^n}t_l)+2b_k\\sin(2\\pi\\frac{kH}{2^n}t_l)\\bigr\\}+...\\\\\n",
    "...+\\bigr\\{2a_{2^{n-1}-1}\\cos(2\\pi\\frac{(2^{n-1}-1)H}{2^n}t_l)+2b_{2^{n-1}-1}\\sin(2\\pi\\frac{(2^{n-1}-1)H}{2^n}t_l)\\bigr\\}\\\\\n",
    "+a_{2^{n-1}}(-1)^l\n",
    "$$\n",
    "\n",
    "$$\n",
    "=a_0+\\sum_{k=1}^{2^{n-1}-1}\\bigr\\{ 2a_k\\cos{\\frac{2\\pi kH}{2^n}t_l} +  2b_k\\sin{\\frac{2\\pi kH}{2^n}t_l}\\bigr\\}+a_{2^{n-1}}(-1)^l  \\tag{10}\n",
    "$$\n",
    "\n",
    "ここで，$H=1/\\tau,\\ l\\tau=t_l\\ \\rightarrow \\ l=Ht_l$を使った。$(10)$より，離散時系列データ$\\xi$の任意の時刻$t_l$におけるデータ点$\\xi_l$は，サンプリング時間における$\\xi$の平均$a_0$，ナイキスト成分$a_{2^{n-1}}$と，$k=1,2,...,2^{n-1}-1$として，**周波数$\\frac{kH}{2^n}$をもつ振幅$2a_k$の余弦波と振幅$2b_k$の正弦波の和として展開できる**ことが解った。  \n",
    "\n",
    "　このように $F_0,F_1,...,F_{2^{n}-1}$ は，回路またはコンピュータ上で，離散データを$(1)$または$(10)$のように展開したとき，サンプリングデータの全時刻における**平均**と**ナイキスト成分**および，**取り得る周波数の余弦波と正弦波のそれぞれの振幅の$\\frac{1}{2}$を複素数を用いて表すことに等しい**。式で書くと（気にするな）：\n",
    "\n",
    "$$\n",
    "F_k=\\frac{1}{2^n}\\sum_{l=0}^{2^n-1}\\xi_le^{2\\pi i\\frac{k}{2^n}l}=\n",
    "\\frac{1}{2^n}\\sum_{l=0}^{2^n-1}\\xi_le^{2\\pi i\\frac{kH}{2^n}l\\tau},\n",
    "\\ \\ \\ (k=0,1,2,...,2^n-1),\\\\\n",
    "\\mathrm{or}\\\\\n",
    "F(\\frac{kH}{2^n})=\\frac{1}{2^n}\\sum_{l=0}^{2^n-1}\\xi(t_l)e^{2\\pi i\\frac{kH}{2^n}t_l} \\tag{11}.\n",
    "$$\n",
    "\n",
    "式$(11)$を高速離散フーリエ変換(FFT)という。  \n",
    "　こうして，【公式１】は，**要素数$2^n$**のデータ`arr`について，  \n",
    " - `F_arr[0]`は`arr`の平均を与える。\n",
    " - `F_arr[1]`は周波数$\\frac{H}{2^n}$の`arr`の余弦波(実数成分)の振幅の$\\frac{1}{2}$と正弦波の振幅(虚数成分)の$\\frac{1}{2}$を与える。\n",
    " - `F_arr[2]`は周波数$\\frac{2H}{2^n}$の`arr`の余弦波(実数成分)の振幅の$\\frac{1}{2}$と正弦波(虚数成分)の振幅の$\\frac{1}{2}$を与える。\n",
    " - ...\n",
    " - `F_arr[` $k$ `]`は周波数$\\frac{kH}{2^n}$の`arr`の余弦波(実数成分)の振幅の$\\frac{1}{2}$と正弦波(虚数成分)の振幅の$\\frac{1}{2}$を与える。\n",
    " - ...\n",
    " - `F_arr[` $2^{n-1}$ `]`は周波数$\\frac{2^{n-1}H}{2^n}=\\frac{H}{2}$（**ナイキスト周波数**）のナイキスト成分:\n",
    "`(arr[0]-arr[1]+arr[2]-...-arr[` $2^n-1$ `])/`$2^n$を与える。これをPython-Numpyコードで書くと次のようになる：\n",
    " ```\n",
    " np.sum(arr * np.array([(-1)**k for k in range(len(arr))]))/len(arr)  \n",
    "```\n",
    " - これ以降は順に，`F_arr[` $2^{n-1}-1$ `]`, ... , `F_arr[1]`の複素共役である。  \n",
    " \n",
    "　データ$\\{\\xi_l\\}$の各$F_k$の絶対値の２乗  \n",
    " \n",
    "$$\n",
    "P_k:=\\mid F_k \\mid ^2 \\tag{12}\n",
    "$$\n",
    "\n",
    "を周波数$\\frac{kl}{2^n}$の**パワー(Power)**という。これは，データ$\\{\\xi_l\\}$をスペクトル分解したときの周波数$\\frac{kl}{2^n}$の強度を表す。\n",
    " ***"
   ]
  },
  {
   "cell_type": "markdown",
   "metadata": {},
   "source": [
    "## 3. 解析例"
   ]
  },
  {
   "cell_type": "markdown",
   "metadata": {},
   "source": [
    "◼️3-1. 必要なモジュールをインポートする："
   ]
  },
  {
   "cell_type": "code",
   "execution_count": 1,
   "metadata": {},
   "outputs": [],
   "source": [
    "import numpy as np\n",
    "import matplotlib.pyplot as plt"
   ]
  },
  {
   "cell_type": "markdown",
   "metadata": {},
   "source": [
    "> ナイキスト周波数は5Hzだ。"
   ]
  },
  {
   "cell_type": "markdown",
   "metadata": {},
   "source": [
    "◼️3-2. サンプリング周波数10Hzの64(=2$^6$)個の要素を持つデータでスペクトル解析を行ってみる。"
   ]
  },
  {
   "cell_type": "markdown",
   "metadata": {},
   "source": [
    "◽︎3-2-1. 次のようなデータ配列`x`を用意する："
   ]
  },
  {
   "cell_type": "code",
   "execution_count": 2,
   "metadata": {},
   "outputs": [],
   "source": [
    "x = np.array([ 3.005,  3.139,  0.887, -0.842, -0.049,  2.079,  4.781,  4.601,\n",
    "               2.84 , -0.501, -2.735, -1.566,  0.656,  1.454,  1.033, -1.232,\n",
    "              -3.631, -4.017, -1.245,  1.319,  3.449,  2.798,  0.481, -0.547,\n",
    "               0.106,  2.153,  4.771,  5.109,  2.993, -0.146, -2.153, -1.651,\n",
    "               0.613,  1.278,  1.187, -1.624, -3.804, -3.767, -1.202,  1.528,\n",
    "               3.635,  3.116,  1.004, -0.896, -0.132,  2.574,  4.644,  4.777,\n",
    "               2.126, -0.23 , -2.35 , -2.237,  0.671,  1.51 ,  0.579, -1.524,\n",
    "              -3.596, -3.608, -1.672,  1.81 ,  3.772,  3.077,  1.137, -0.918])"
   ]
  },
  {
   "cell_type": "markdown",
   "metadata": {},
   "source": [
    "▫︎3-2-2. `x`グラフは，次のようになる："
   ]
  },
  {
   "cell_type": "code",
   "execution_count": 3,
   "metadata": {},
   "outputs": [
    {
     "data": {
      "image/png": "[encoded data removed]",
      "text/plain": [
       "<Figure size 432x288 with 1 Axes>"
      ]
     },
     "metadata": {
      "needs_background": "light"
     },
     "output_type": "display_data"
    }
   ],
   "source": [
    "plt.plot(np.arange(64)/10,x)  # 第１引数はサンプルリング時刻\n",
    "plt.xlabel('time [s]')\n",
    "plt.ylabel('x')\n",
    "plt.grid()\n",
    "plt.show()"
   ]
  },
  {
   "cell_type": "markdown",
   "metadata": {},
   "source": [
    "> 時刻配列は初期時刻を0[sec]とすると，`np.arange(64)/10`[sec]で与えられる。"
   ]
  },
  {
   "cell_type": "markdown",
   "metadata": {},
   "source": [
    "◼️3-3. FFT周波数配列をもとめる。"
   ]
  },
  {
   "cell_type": "markdown",
   "metadata": {},
   "source": [
    "▫︎3-3-1. サンプリング周波数10Hzでサンリングデータ数が64であることに注意しよう。そのとき，FFT周波数配列を`frq`とすると："
   ]
  },
  {
   "cell_type": "code",
   "execution_count": 4,
   "metadata": {},
   "outputs": [],
   "source": [
    "frq = np.array([k*10/64 for k in range(64)])"
   ]
  },
  {
   "cell_type": "markdown",
   "metadata": {},
   "source": [
    "▫︎3-3-2. `frq`の内容を見てみる："
   ]
  },
  {
   "cell_type": "code",
   "execution_count": 5,
   "metadata": {},
   "outputs": [
    {
     "data": {
      "text/plain": [
       "array([0.     , 0.15625, 0.3125 , 0.46875, 0.625  , 0.78125, 0.9375 ,\n",
       "       1.09375, 1.25   , 1.40625, 1.5625 , 1.71875, 1.875  , 2.03125,\n",
       "       2.1875 , 2.34375, 2.5    , 2.65625, 2.8125 , 2.96875, 3.125  ,\n",
       "       3.28125, 3.4375 , 3.59375, 3.75   , 3.90625, 4.0625 , 4.21875,\n",
       "       4.375  , 4.53125, 4.6875 , 4.84375, 5.     , 5.15625, 5.3125 ,\n",
       "       5.46875, 5.625  , 5.78125, 5.9375 , 6.09375, 6.25   , 6.40625,\n",
       "       6.5625 , 6.71875, 6.875  , 7.03125, 7.1875 , 7.34375, 7.5    ,\n",
       "       7.65625, 7.8125 , 7.96875, 8.125  , 8.28125, 8.4375 , 8.59375,\n",
       "       8.75   , 8.90625, 9.0625 , 9.21875, 9.375  , 9.53125, 9.6875 ,\n",
       "       9.84375])"
      ]
     },
     "execution_count": 5,
     "metadata": {},
     "output_type": "execute_result"
    }
   ],
   "source": [
    "frq"
   ]
  },
  {
   "cell_type": "markdown",
   "metadata": {},
   "source": [
    "> 可能なFFT周波数は`0.`, `0.15625`, `0.3125`,..., `4.84375`, `5.`,..., `9.6875` ,`9.84375`[Hz]。このうち，`0.`[Hz]は直流周波数，`5.`[Hz]はナイキスト周波数，`9.84375`[Hz]は最大周波数である。"
   ]
  },
  {
   "cell_type": "markdown",
   "metadata": {},
   "source": [
    "◼️3-4. データをフーリエ変換して，スペクトルを求める。"
   ]
  },
  {
   "cell_type": "markdown",
   "metadata": {},
   "source": [
    "◽︎3-4-1. 公式1から，データ`x`をFFTし，可能な周波数の各スペクトルを得てみる。スペクトル配列を`F_x`とする："
   ]
  },
  {
   "cell_type": "code",
   "execution_count": 6,
   "metadata": {},
   "outputs": [],
   "source": [
    "F_x = np.fft.fft(x)/len(x)"
   ]
  },
  {
   "cell_type": "markdown",
   "metadata": {},
   "source": [
    "◽︎3-4-2. `F_x`の全成分を見てみる："
   ]
  },
  {
   "cell_type": "code",
   "execution_count": 7,
   "metadata": {},
   "outputs": [
    {
     "data": {
      "text/plain": [
       "array([ 0.60651562+0.j        ,  0.05338374-0.02641583j,\n",
       "        0.13676051-0.06861002j,  0.54237422-0.66533345j,\n",
       "       -0.12502297+0.30519792j, -0.04448136+0.15046563j,\n",
       "       -0.05956174+0.2053842j , -0.06200979+0.1667692j ,\n",
       "       -0.0857824 +0.28260584j, -0.21173226+0.69837398j,\n",
       "        0.33803748-1.03779766j,  0.10896881-0.28551312j,\n",
       "        0.04425647-0.18058519j,  0.02224283-0.12868357j,\n",
       "        0.0431695 -0.10333967j,  0.01471997-0.065922j  ,\n",
       "        0.05479688-0.07503125j,  0.08003865-0.07145435j,\n",
       "        0.0203306 -0.01954396j, -0.01041401-0.0558565j ,\n",
       "       -0.00815413-0.02547231j,  0.03220215-0.02807645j,\n",
       "        0.084749  -0.02776028j,  0.00385495-0.04008064j,\n",
       "        0.0089699 -0.01280041j,  0.00643778-0.06325663j,\n",
       "        0.03350707-0.03556691j,  0.02820117+0.00616836j,\n",
       "        0.03442062+0.0214358j ,  0.0173886 -0.01767039j,\n",
       "        0.04338258+0.00982221j,  0.01682456+0.01380056j,\n",
       "        0.07476563+0.j        ,  0.01682456-0.01380056j,\n",
       "        0.04338258-0.00982221j,  0.0173886 +0.01767039j,\n",
       "        0.03442062-0.0214358j ,  0.02820117-0.00616836j,\n",
       "        0.03350707+0.03556691j,  0.00643778+0.06325663j,\n",
       "        0.0089699 +0.01280041j,  0.00385495+0.04008064j,\n",
       "        0.084749  +0.02776028j,  0.03220215+0.02807645j,\n",
       "       -0.00815413+0.02547231j, -0.01041401+0.0558565j ,\n",
       "        0.0203306 +0.01954396j,  0.08003865+0.07145435j,\n",
       "        0.05479688+0.07503125j,  0.01471997+0.065922j  ,\n",
       "        0.0431695 +0.10333967j,  0.02224283+0.12868357j,\n",
       "        0.04425647+0.18058519j,  0.10896881+0.28551312j,\n",
       "        0.33803748+1.03779766j, -0.21173226-0.69837398j,\n",
       "       -0.0857824 -0.28260584j, -0.06200979-0.1667692j ,\n",
       "       -0.05956174-0.2053842j , -0.04448136-0.15046563j,\n",
       "       -0.12502297-0.30519792j,  0.54237422+0.66533345j,\n",
       "        0.13676051+0.06861002j,  0.05338374+0.02641583j])"
      ]
     },
     "execution_count": 7,
     "metadata": {},
     "output_type": "execute_result"
    }
   ],
   "source": [
    "F_x"
   ]
  },
  {
   "cell_type": "markdown",
   "metadata": {},
   "source": [
    "> Numpyでは$\\sqrt{-1}$を`j`で表すことになっている。つまり，`F_x`のすべての成分は複素数である（ただし，indexが0と32は実質的には実数である）。"
   ]
  },
  {
   "cell_type": "markdown",
   "metadata": {},
   "source": [
    "◼️3-5. `F_x[0]`がデータ`x`の平均を与えているかを確かめてみる："
   ]
  },
  {
   "cell_type": "code",
   "execution_count": 8,
   "metadata": {},
   "outputs": [
    {
     "name": "stdout",
     "output_type": "stream",
     "text": [
      "F_x[0]=(0.6065156249999999+0j)\n",
      "xの平均: 0.6065156249999999\n"
     ]
    }
   ],
   "source": [
    "print(f'F_x[0]={F_x[0]}')\n",
    "print(f'xの平均: {np.mean(x)}')"
   ]
  },
  {
   "cell_type": "markdown",
   "metadata": {},
   "source": [
    "◼️3-6.  ナイキスト成分(ナイキスト周波数5Hz)`F_x[32]`の成分がセクション２の式$(3)$を与えるかを確かめてみる："
   ]
  },
  {
   "cell_type": "code",
   "execution_count": 9,
   "metadata": {},
   "outputs": [
    {
     "name": "stdout",
     "output_type": "stream",
     "text": [
      "F_x[32]=(0.074765625+0j)\n",
      "(x[0]-x[1]+x[2]-...-x[63])/64=0.074765625\n"
     ]
    }
   ],
   "source": [
    "print(f'F_x[32]={F_x[32]}')\n",
    "print(f'(x[0]-x[1]+x[2]-...-x[63])/64={np.sum(x * np.array([(-1)**k for k in range(64)]))/64}')"
   ]
  },
  {
   "cell_type": "markdown",
   "metadata": {},
   "source": [
    "> `np.sum(x * np.array([(-1)**k for k in range(64)]))`の部分が`x[0]-x[1]+x[2]-...-x[63]`の計算コードだ。"
   ]
  },
  {
   "cell_type": "markdown",
   "metadata": {},
   "source": [
    "◼️3-7. `F_x[0]=0.60651562+0.j`とナイキスト成分`F_x[32]=0.074765625+0j`除く複素数成分が，ナイキスト成分を中心として，互いに**複素共役**になっていることを確かめよう："
   ]
  },
  {
   "cell_type": "code",
   "execution_count": 10,
   "metadata": {},
   "outputs": [
    {
     "name": "stdout",
     "output_type": "stream",
     "text": [
      "F_x[1]=(0.053384-0.026416j)\tF_x[63]=(0.053384+0.026416j)\t\n",
      "F_x[2]=(0.136761-0.06861j)\tF_x[62]=(0.136761+0.06861j)\t\n",
      "F_x[3]=(0.542374-0.665333j)\tF_x[61]=(0.542374+0.665333j)\t\n",
      "F_x[4]=(-0.125023+0.305198j)\tF_x[60]=(-0.125023-0.305198j)\t\n",
      "F_x[5]=(-0.044481+0.150466j)\tF_x[59]=(-0.044481-0.150466j)\t\n",
      "F_x[6]=(-0.059562+0.205384j)\tF_x[58]=(-0.059562-0.205384j)\t\n",
      "F_x[7]=(-0.06201+0.166769j)\tF_x[57]=(-0.06201-0.166769j)\t\n",
      "F_x[8]=(-0.085782+0.282606j)\tF_x[56]=(-0.085782-0.282606j)\t\n",
      "F_x[9]=(-0.211732+0.698374j)\tF_x[55]=(-0.211732-0.698374j)\t\n",
      "F_x[10]=(0.338037-1.037798j)\tF_x[54]=(0.338037+1.037798j)\t\n",
      "F_x[11]=(0.108969-0.285513j)\tF_x[53]=(0.108969+0.285513j)\t\n",
      "F_x[12]=(0.044256-0.180585j)\tF_x[52]=(0.044256+0.180585j)\t\n",
      "F_x[13]=(0.022243-0.128684j)\tF_x[51]=(0.022243+0.128684j)\t\n",
      "F_x[14]=(0.04317-0.10334j)\tF_x[50]=(0.04317+0.10334j)\t\n",
      "F_x[15]=(0.01472-0.065922j)\tF_x[49]=(0.01472+0.065922j)\t\n",
      "F_x[16]=(0.054797-0.075031j)\tF_x[48]=(0.054797+0.075031j)\t\n",
      "F_x[17]=(0.080039-0.071454j)\tF_x[47]=(0.080039+0.071454j)\t\n",
      "F_x[18]=(0.020331-0.019544j)\tF_x[46]=(0.020331+0.019544j)\t\n",
      "F_x[19]=(-0.010414-0.055857j)\tF_x[45]=(-0.010414+0.055857j)\t\n",
      "F_x[20]=(-0.008154-0.025472j)\tF_x[44]=(-0.008154+0.025472j)\t\n",
      "F_x[21]=(0.032202-0.028076j)\tF_x[43]=(0.032202+0.028076j)\t\n",
      "F_x[22]=(0.084749-0.02776j)\tF_x[42]=(0.084749+0.02776j)\t\n",
      "F_x[23]=(0.003855-0.040081j)\tF_x[41]=(0.003855+0.040081j)\t\n",
      "F_x[24]=(0.00897-0.0128j)\tF_x[40]=(0.00897+0.0128j)\t\n",
      "F_x[25]=(0.006438-0.063257j)\tF_x[39]=(0.006438+0.063257j)\t\n",
      "F_x[26]=(0.033507-0.035567j)\tF_x[38]=(0.033507+0.035567j)\t\n",
      "F_x[27]=(0.028201+0.006168j)\tF_x[37]=(0.028201-0.006168j)\t\n",
      "F_x[28]=(0.034421+0.021436j)\tF_x[36]=(0.034421-0.021436j)\t\n",
      "F_x[29]=(0.017389-0.01767j)\tF_x[35]=(0.017389+0.01767j)\t\n",
      "F_x[30]=(0.043383+0.009822j)\tF_x[34]=(0.043383-0.009822j)\t\n",
      "F_x[31]=(0.016825+0.013801j)\tF_x[33]=(0.016825-0.013801j)\t\n"
     ]
    }
   ],
   "source": [
    "for k in range(1, 32):\n",
    "    print(f'F_x[{k}]={np.round(F_x[k],6)}\\tF_x[{64-k}]={np.round(F_x[64-k],6)}\\t')"
   ]
  },
  {
   "cell_type": "markdown",
   "metadata": {},
   "source": [
    "> 見やすくするため，小数第６位までを表示している。"
   ]
  },
  {
   "cell_type": "markdown",
   "metadata": {},
   "source": [
    "◼️3-6. F_xにおいて，0Hzとを除いたナイキスト周波数(5Hz)の一つ前までの各成分の実数部の２倍がcos波の振幅配列，虚数部の２倍がsin波の振幅配列なので，それぞれを`C`, `S`とすると："
   ]
  },
  {
   "cell_type": "markdown",
   "metadata": {},
   "source": [
    "◽︎3-6-1. 複素配列の実数パートのみを得るためには，`np.real(arr)`関数を用いる。よって`C`は次のようにして得られる："
   ]
  },
  {
   "cell_type": "code",
   "execution_count": 11,
   "metadata": {},
   "outputs": [],
   "source": [
    "C = 2 * np.real(F_x[1:32])"
   ]
  },
  {
   "cell_type": "markdown",
   "metadata": {},
   "source": [
    "◽︎3-6-2. `F_x`の`cos`波の振幅`C`を周波数ごとに（ナイキスト周波数の一つ前まで）プロットしてみる："
   ]
  },
  {
   "cell_type": "code",
   "execution_count": 12,
   "metadata": {},
   "outputs": [
    {
     "data": {
      "image/png": "[encoded data removed]",
      "text/plain": [
       "<Figure size 432x288 with 1 Axes>"
      ]
     },
     "metadata": {
      "needs_background": "light"
     },
     "output_type": "display_data"
    }
   ],
   "source": [
    "plt.plot(frq[1:32], C)\n",
    "plt.xlabel('frequency [Hz]')\n",
    "plt.ylabel('amplitude')\n",
    "plt.grid()"
   ]
  },
  {
   "cell_type": "markdown",
   "metadata": {},
   "source": [
    "◽︎3-6-3. 複素配列の実数パートのみを得るためには，`np.imag(arr)`関数を用いる。よって`S`は次のようにして得られる："
   ]
  },
  {
   "cell_type": "code",
   "execution_count": 13,
   "metadata": {},
   "outputs": [],
   "source": [
    "S = -2 * np.imag(F_x[1:32])"
   ]
  },
  {
   "cell_type": "markdown",
   "metadata": {},
   "source": [
    "> セクション２の(6)をみよ。$ib_x$の前に負号が付いているので，上記左辺にも負号がついている。"
   ]
  },
  {
   "cell_type": "markdown",
   "metadata": {},
   "source": [
    "◽︎3-6-4. `F_x`の`sin`波の振幅`S`を周波数ごとに（ナイキスト周波数の一つ前まで）プロットしてみる："
   ]
  },
  {
   "cell_type": "code",
   "execution_count": 14,
   "metadata": {},
   "outputs": [
    {
     "data": {
      "image/png": "[encoded data removed]",
      "text/plain": [
       "<Figure size 432x288 with 1 Axes>"
      ]
     },
     "metadata": {
      "needs_background": "light"
     },
     "output_type": "display_data"
    }
   ],
   "source": [
    "plt.plot(frq[1:32], S)\n",
    "plt.xlabel('frequency [Hz]')\n",
    "plt.ylabel('amplitude')\n",
    "plt.grid()"
   ]
  },
  {
   "cell_type": "markdown",
   "metadata": {},
   "source": [
    "◽︎3-6-5. `C`と`S`を１つのグラフにプロットしてみよう："
   ]
  },
  {
   "cell_type": "code",
   "execution_count": 15,
   "metadata": {},
   "outputs": [
    {
     "data": {
      "image/png": "[encoded data removed]",
      "text/plain": [
       "<Figure size 432x288 with 1 Axes>"
      ]
     },
     "metadata": {
      "needs_background": "light"
     },
     "output_type": "display_data"
    }
   ],
   "source": [
    "plt.plot(frq[1:32], C)\n",
    "plt.plot(frq[1:32], S)\n",
    "plt.legend(['cos-wave','sin-wave'] )\n",
    "plt.xlabel('frequecy [Hz]')\n",
    "plt.ylabel('amplitude')\n",
    "plt.grid()\n",
    "plt.show()"
   ]
  },
  {
   "cell_type": "markdown",
   "metadata": {},
   "source": [
    "◼️3-7. スペクトルの**パワー**を求める。パワーはスペクトルの**強度**を示すものであった。例えば虹で，**青**が濃く見えるときは，光のスペクトルの青のパワー（強度）が強いということになる。"
   ]
  },
  {
   "cell_type": "markdown",
   "metadata": {},
   "source": [
    "◽︎3-7-1. `F_x`のパワーを`P_x`とする："
   ]
  },
  {
   "cell_type": "code",
   "execution_count": 16,
   "metadata": {},
   "outputs": [],
   "source": [
    "P_x = np.abs(F_x)**2"
   ]
  },
  {
   "cell_type": "markdown",
   "metadata": {},
   "source": [
    "> 複素配列のそれぞれの要素の絶対値の配列を求めるには，`np.abs(arr)`を使う。"
   ]
  },
  {
   "cell_type": "markdown",
   "metadata": {},
   "source": [
    "◽︎3-7-2. パワーを取りうべき周波数の全範囲に渡ってプロットしてみる："
   ]
  },
  {
   "cell_type": "code",
   "execution_count": 17,
   "metadata": {},
   "outputs": [
    {
     "data": {
      "image/png": "[encoded data removed]",
      "text/plain": [
       "<Figure size 432x288 with 1 Axes>"
      ]
     },
     "metadata": {
      "needs_background": "light"
     },
     "output_type": "display_data"
    }
   ],
   "source": [
    "plt.plot(frq, P_x)\n",
    "plt.xlabel('frequency [Hz]')\n",
    "plt.ylabel('Power')\n",
    "plt.grid()"
   ]
  },
  {
   "cell_type": "markdown",
   "metadata": {},
   "source": [
    "> 上記グラフは0Hzを除いて，ナイキスト周波数(5Hz)を中心にして左右対称である。"
   ]
  },
  {
   "cell_type": "markdown",
   "metadata": {},
   "source": [
    "◽︎3-7-3. 0Hzとナイキスト周波数(5Hz)を除いたパワーのグラフをプロットしてみる："
   ]
  },
  {
   "cell_type": "code",
   "execution_count": 18,
   "metadata": {},
   "outputs": [
    {
     "data": {
      "image/png": "[encoded data removed]",
      "text/plain": [
       "<Figure size 432x288 with 1 Axes>"
      ]
     },
     "metadata": {
      "needs_background": "light"
     },
     "output_type": "display_data"
    }
   ],
   "source": [
    "plt.plot(frq[1:32], P_x[1:32])\n",
    "plt.xlabel('frequency [Hz]')\n",
    "plt.ylabel('Power')\n",
    "plt.grid()"
   ]
  },
  {
   "cell_type": "markdown",
   "metadata": {},
   "source": [
    "> パワーのピークは1.5Hz付近，その次のピークは0.5Hz付近に現れている。"
   ]
  },
  {
   "cell_type": "markdown",
   "metadata": {},
   "source": [
    "◽︎3-7-3. `P_x`の"
   ]
  },
  {
   "cell_type": "code",
   "execution_count": 19,
   "metadata": {},
   "outputs": [
    {
     "data": {
      "text/plain": [
       "1.5625"
      ]
     },
     "execution_count": 19,
     "metadata": {},
     "output_type": "execute_result"
    }
   ],
   "source": [
    "frq[np.where(P_x==np.max(P_x))[0][0]]"
   ]
  },
  {
   "cell_type": "code",
   "execution_count": 25,
   "metadata": {},
   "outputs": [
    {
     "data": {
      "text/plain": [
       "array([1.40625, 0.3125 , 1.25   , 0.46875, 1.5625 ])"
      ]
     },
     "execution_count": 25,
     "metadata": {},
     "output_type": "execute_result"
    }
   ],
   "source": [
    "frq[:32][np.argsort(P_x[1:32])[::-1]][:5]"
   ]
  },
  {
   "cell_type": "code",
   "execution_count": 26,
   "metadata": {},
   "outputs": [
    {
     "data": {
      "text/plain": [
       "array([1.19129332, 0.73683839, 0.53255677, 0.10877651, 0.09339194])"
      ]
     },
     "execution_count": 26,
     "metadata": {},
     "output_type": "execute_result"
    }
   ],
   "source": [
    "np.sort(P_x[1:32])[::-1][:5]"
   ]
  },
  {
   "cell_type": "code",
   "execution_count": 25,
   "metadata": {},
   "outputs": [
    {
     "data": {
      "text/plain": [
       "array([ 3.005+0.00000000e+00j,  3.139-1.35188630e-16j,\n",
       "        0.887-4.40461415e-17j, -0.842-1.57837742e-16j,\n",
       "       -0.049+0.00000000e+00j,  2.079-7.06573461e-17j,\n",
       "        4.781-5.15142538e-20j,  4.601+5.72046885e-17j,\n",
       "        2.84 -1.70685034e-17j, -0.501-2.97660042e-16j,\n",
       "       -2.735-1.46628212e-16j, -1.566+1.27622281e-16j,\n",
       "        0.656-9.77933612e-18j,  1.454-2.08602521e-16j,\n",
       "        1.033+9.71501515e-17j, -1.232+1.62543490e-16j,\n",
       "       -3.631+0.00000000e+00j, -4.017-2.41663280e-17j,\n",
       "       -1.245+1.22487312e-16j,  1.319-4.68154399e-17j,\n",
       "        3.449+0.00000000e+00j,  2.798+4.28943015e-16j,\n",
       "        0.481-5.15142538e-20j, -0.547-2.20351068e-16j,\n",
       "        0.106-5.36640248e-17j,  2.153-4.64862874e-16j,\n",
       "        4.771-7.45239430e-17j,  5.109-7.23691728e-18j,\n",
       "        2.993-9.76550548e-18j, -0.146+4.64451598e-16j,\n",
       "       -2.153-9.81210834e-17j, -1.651-1.00172744e-16j,\n",
       "        0.613+0.00000000e+00j,  1.278+8.68559744e-17j,\n",
       "        1.187+6.69761610e-17j, -1.624+6.42068625e-17j,\n",
       "       -3.804+0.00000000e+00j, -3.767-2.92701951e-16j,\n",
       "       -1.202-5.15142538e-20j,  1.528+1.68226991e-16j,\n",
       "        3.635+1.70685034e-17j,  3.116+3.29911585e-16j,\n",
       "        1.004+1.23698193e-16j, -0.896+1.22354017e-16j,\n",
       "       -0.132+9.77933612e-18j,  2.574-2.44624337e-16j,\n",
       "        4.644+1.39751795e-17j,  4.777-2.11253680e-16j,\n",
       "        2.126+0.00000000e+00j, -0.23 -2.41663280e-17j,\n",
       "       -2.35 -9.95572927e-17j, -2.237-4.68154399e-17j,\n",
       "        0.671+0.00000000e+00j,  1.51 -1.51461948e-17j,\n",
       "        0.579-5.15142538e-20j, -1.524+1.69353727e-18j,\n",
       "       -3.596+5.36640248e-17j, -3.608+4.97114418e-16j,\n",
       "       -1.672+5.15939236e-17j,  1.81 +3.51686102e-17j,\n",
       "        3.772+9.76550548e-18j,  3.077-2.95000371e-17j,\n",
       "        1.137-1.27981905e-17j, -0.918+5.14625538e-17j])"
      ]
     },
     "execution_count": 25,
     "metadata": {},
     "output_type": "execute_result"
    }
   ],
   "source": [
    "np.fft.ifft(F_x)*len(F_x)"
   ]
  },
  {
   "cell_type": "code",
   "execution_count": 26,
   "metadata": {},
   "outputs": [
    {
     "data": {
      "text/plain": [
       "array([ 0.00000000e+00,  0.00000000e+00, -7.77156117e-16,  6.66133815e-16,\n",
       "       -8.18789481e-16,  0.00000000e+00,  0.00000000e+00, -8.88178420e-16,\n",
       "       -8.88178420e-16, -7.77156117e-16,  4.44089210e-16,  4.44089210e-16,\n",
       "        5.55111512e-16, -2.22044605e-16, -1.11022302e-15, -4.44089210e-16,\n",
       "        0.00000000e+00, -8.88178420e-16, -2.22044605e-16, -2.22044605e-16,\n",
       "        0.00000000e+00,  8.88178420e-16, -3.33066907e-16,  3.33066907e-16,\n",
       "        3.19189120e-16, -4.44089210e-16,  0.00000000e+00,  8.88178420e-16,\n",
       "       -4.44089210e-16,  8.32667268e-17,  4.44089210e-16, -6.66133815e-16,\n",
       "       -6.66133815e-16,  0.00000000e+00, -2.22044605e-16,  0.00000000e+00,\n",
       "        0.00000000e+00,  0.00000000e+00, -6.66133815e-16, -4.44089210e-16,\n",
       "       -4.44089210e-16,  4.44089210e-16, -2.22044605e-16,  1.11022302e-16,\n",
       "       -5.55111512e-16,  0.00000000e+00,  0.00000000e+00,  0.00000000e+00,\n",
       "        0.00000000e+00, -4.16333634e-16, -4.44089210e-16,  0.00000000e+00,\n",
       "        0.00000000e+00, -2.22044605e-16, -4.44089210e-16,  8.88178420e-16,\n",
       "        0.00000000e+00, -8.88178420e-16,  4.44089210e-16, -2.22044605e-16,\n",
       "        4.44089210e-16,  0.00000000e+00, -2.22044605e-16,  9.99200722e-16])"
      ]
     },
     "execution_count": 26,
     "metadata": {},
     "output_type": "execute_result"
    }
   ],
   "source": [
    "np.real(np.fft.ifft(F_x)*len(F_x))-x"
   ]
  },
  {
   "cell_type": "code",
   "execution_count": 28,
   "metadata": {},
   "outputs": [
    {
     "data": {
      "text/plain": [
       "array([ 0.00000000e+00,  0.00000000e+00, -7.77156117e-16,  6.66133815e-16,\n",
       "       -8.18789481e-16,  0.00000000e+00,  0.00000000e+00, -8.88178420e-16,\n",
       "       -8.88178420e-16, -7.77156117e-16,  4.44089210e-16,  4.44089210e-16,\n",
       "        5.55111512e-16, -2.22044605e-16, -1.11022302e-15, -4.44089210e-16,\n",
       "        0.00000000e+00, -8.88178420e-16, -2.22044605e-16, -2.22044605e-16,\n",
       "        0.00000000e+00,  8.88178420e-16, -3.33066907e-16,  3.33066907e-16,\n",
       "        3.19189120e-16, -4.44089210e-16,  0.00000000e+00,  8.88178420e-16,\n",
       "       -4.44089210e-16,  8.32667268e-17,  4.44089210e-16, -6.66133815e-16,\n",
       "       -6.66133815e-16,  0.00000000e+00, -2.22044605e-16,  0.00000000e+00,\n",
       "        0.00000000e+00,  0.00000000e+00, -6.66133815e-16, -4.44089210e-16,\n",
       "       -4.44089210e-16,  4.44089210e-16, -2.22044605e-16,  1.11022302e-16,\n",
       "       -5.55111512e-16,  0.00000000e+00,  0.00000000e+00,  0.00000000e+00,\n",
       "        0.00000000e+00, -4.16333634e-16, -4.44089210e-16,  0.00000000e+00,\n",
       "        0.00000000e+00, -2.22044605e-16, -4.44089210e-16,  8.88178420e-16,\n",
       "        0.00000000e+00, -8.88178420e-16,  4.44089210e-16, -2.22044605e-16,\n",
       "        4.44089210e-16,  0.00000000e+00, -2.22044605e-16,  9.99200722e-16])"
      ]
     },
     "execution_count": 28,
     "metadata": {},
     "output_type": "execute_result"
    }
   ],
   "source": [
    "np.real(np.fft.ifft(np.fft.fft(x)))-x"
   ]
  },
  {
   "cell_type": "code",
   "execution_count": 29,
   "metadata": {},
   "outputs": [
    {
     "data": {
      "text/plain": [
       "array([ True,  True,  True,  True,  True,  True,  True,  True,  True,\n",
       "        True,  True,  True,  True,  True,  True,  True,  True,  True,\n",
       "        True,  True,  True,  True,  True,  True,  True,  True,  True,\n",
       "        True,  True,  True,  True,  True,  True,  True,  True,  True,\n",
       "        True,  True,  True,  True,  True,  True,  True,  True,  True,\n",
       "        True,  True,  True,  True,  True,  True,  True,  True,  True,\n",
       "        True,  True,  True,  True,  True,  True,  True,  True,  True,\n",
       "        True])"
      ]
     },
     "execution_count": 29,
     "metadata": {},
     "output_type": "execute_result"
    }
   ],
   "source": [
    "np.real(np.fft.ifft(F_x)*len(F_x))-x==np.real(np.fft.ifft(np.fft.fft(x)))-x"
   ]
  },
  {
   "cell_type": "code",
   "execution_count": 31,
   "metadata": {},
   "outputs": [
    {
     "data": {
      "text/plain": [
       "\u001b[0;31mSignature:\u001b[0m \u001b[0mnp\u001b[0m\u001b[0;34m.\u001b[0m\u001b[0margsort\u001b[0m\u001b[0;34m(\u001b[0m\u001b[0ma\u001b[0m\u001b[0;34m,\u001b[0m \u001b[0maxis\u001b[0m\u001b[0;34m=\u001b[0m\u001b[0;34m-\u001b[0m\u001b[0;36m1\u001b[0m\u001b[0;34m,\u001b[0m \u001b[0mkind\u001b[0m\u001b[0;34m=\u001b[0m\u001b[0;34m'quicksort'\u001b[0m\u001b[0;34m,\u001b[0m \u001b[0morder\u001b[0m\u001b[0;34m=\u001b[0m\u001b[0;32mNone\u001b[0m\u001b[0;34m)\u001b[0m\u001b[0;34m\u001b[0m\u001b[0;34m\u001b[0m\u001b[0m\n",
       "\u001b[0;31mDocstring:\u001b[0m\n",
       "Returns the indices that would sort an array.\n",
       "\n",
       "Perform an indirect sort along the given axis using the algorithm specified\n",
       "by the `kind` keyword. It returns an array of indices of the same shape as\n",
       "`a` that index data along the given axis in sorted order.\n",
       "\n",
       "Parameters\n",
       "----------\n",
       "a : array_like\n",
       "    Array to sort.\n",
       "axis : int or None, optional\n",
       "    Axis along which to sort.  The default is -1 (the last axis). If None,\n",
       "    the flattened array is used.\n",
       "kind : {'quicksort', 'mergesort', 'heapsort', 'stable'}, optional\n",
       "    Sorting algorithm.\n",
       "order : str or list of str, optional\n",
       "    When `a` is an array with fields defined, this argument specifies\n",
       "    which fields to compare first, second, etc.  A single field can\n",
       "    be specified as a string, and not all fields need be specified,\n",
       "    but unspecified fields will still be used, in the order in which\n",
       "    they come up in the dtype, to break ties.\n",
       "\n",
       "Returns\n",
       "-------\n",
       "index_array : ndarray, int\n",
       "    Array of indices that sort `a` along the specified axis.\n",
       "    If `a` is one-dimensional, ``a[index_array]`` yields a sorted `a`.\n",
       "    More generally, ``np.take_along_axis(a, index_array, axis=a)`` always\n",
       "    yields the sorted `a`, irrespective of dimensionality.\n",
       "\n",
       "See Also\n",
       "--------\n",
       "sort : Describes sorting algorithms used.\n",
       "lexsort : Indirect stable sort with multiple keys.\n",
       "ndarray.sort : Inplace sort.\n",
       "argpartition : Indirect partial sort.\n",
       "\n",
       "Notes\n",
       "-----\n",
       "See `sort` for notes on the different sorting algorithms.\n",
       "\n",
       "As of NumPy 1.4.0 `argsort` works with real/complex arrays containing\n",
       "nan values. The enhanced sort order is documented in `sort`.\n",
       "\n",
       "Examples\n",
       "--------\n",
       "One dimensional array:\n",
       "\n",
       ">>> x = np.array([3, 1, 2])\n",
       ">>> np.argsort(x)\n",
       "array([1, 2, 0])\n",
       "\n",
       "Two-dimensional array:\n",
       "\n",
       ">>> x = np.array([[0, 3], [2, 2]])\n",
       ">>> x\n",
       "array([[0, 3],\n",
       "       [2, 2]])\n",
       "\n",
       ">>> np.argsort(x, axis=0)  # sorts along first axis (down)\n",
       "array([[0, 1],\n",
       "       [1, 0]])\n",
       "\n",
       ">>> np.argsort(x, axis=1)  # sorts along last axis (across)\n",
       "array([[0, 1],\n",
       "       [0, 1]])\n",
       "\n",
       "Indices of the sorted elements of a N-dimensional array:\n",
       "\n",
       ">>> ind = np.unravel_index(np.argsort(x, axis=None), x.shape)\n",
       ">>> ind\n",
       "(array([0, 1, 1, 0]), array([0, 0, 1, 1]))\n",
       ">>> x[ind]  # same as np.sort(x, axis=None)\n",
       "array([0, 2, 2, 3])\n",
       "\n",
       "Sorting with keys:\n",
       "\n",
       ">>> x = np.array([(1, 0), (0, 1)], dtype=[('x', '<i4'), ('y', '<i4')])\n",
       ">>> x\n",
       "array([(1, 0), (0, 1)],\n",
       "      dtype=[('x', '<i4'), ('y', '<i4')])\n",
       "\n",
       ">>> np.argsort(x, order=('x','y'))\n",
       "array([1, 0])\n",
       "\n",
       ">>> np.argsort(x, order=('y','x'))\n",
       "array([0, 1])\n",
       "\u001b[0;31mFile:\u001b[0m      ~/anaconda3/lib/python3.7/site-packages/numpy/core/fromnumeric.py\n",
       "\u001b[0;31mType:\u001b[0m      function\n"
      ]
     },
     "metadata": {},
     "output_type": "display_data"
    }
   ],
   "source": [
    "np.argsort?"
   ]
  },
  {
   "cell_type": "code",
   "execution_count": 32,
   "metadata": {},
   "outputs": [
    {
     "data": {
      "text/plain": [
       "array([24, 31, 29, 20, 18, 27, 23, 28, 21, 30, 26, 19,  1, 25, 15, 22, 16,\n",
       "       17, 14, 13,  2,  5,  7, 12,  6,  8, 11,  4,  0,  9,  3, 10])"
      ]
     },
     "execution_count": 32,
     "metadata": {},
     "output_type": "execute_result"
    }
   ],
   "source": [
    "np.argsort(P_x[:32])"
   ]
  },
  {
   "cell_type": "code",
   "execution_count": 33,
   "metadata": {},
   "outputs": [
    {
     "data": {
      "text/plain": [
       "array([10,  3,  9,  0,  4, 11,  8,  6, 12,  7,  5,  2, 13, 14, 17, 16, 22,\n",
       "       15, 25,  1, 19, 26, 30, 21, 28, 23, 27, 18, 20, 29, 31, 24])"
      ]
     },
     "execution_count": 33,
     "metadata": {},
     "output_type": "execute_result"
    }
   ],
   "source": [
    "np.argsort(P_x[:32])[::-1]"
   ]
  },
  {
   "cell_type": "code",
   "execution_count": null,
   "metadata": {},
   "outputs": [],
   "source": []
  }
 ],
 "metadata": {
  "kernelspec": {
   "display_name": "Python 3",
   "language": "python",
   "name": "python3"
  },
  "language_info": {
   "codemirror_mode": {
    "name": "ipython",
    "version": 3
   },
   "file_extension": ".py",
   "mimetype": "text/x-python",
   "name": "python",
   "nbconvert_exporter": "python",
   "pygments_lexer": "ipython3",
   "version": "3.7.3"
  }
 },
 "nbformat": 4,
 "nbformat_minor": 2
}
